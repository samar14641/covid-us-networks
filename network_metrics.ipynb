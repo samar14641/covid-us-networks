{
 "cells": [
  {
   "cell_type": "markdown",
   "metadata": {},
   "source": [
    "#### Import modules"
   ]
  },
  {
   "cell_type": "code",
   "execution_count": 1,
   "metadata": {},
   "outputs": [],
   "source": [
    "import matplotlib.pyplot as plt\n",
    "import networkx as nx\n",
    "import numpy as np\n",
    "import os"
   ]
  },
  {
   "cell_type": "markdown",
   "metadata": {},
   "source": [
    "#### Read data"
   ]
  },
  {
   "cell_type": "code",
   "execution_count": 2,
   "metadata": {},
   "outputs": [],
   "source": [
    "counties_graph = nx.read_gml(os.getcwd() + '/Graphs/counties_graph.gml')\n",
    "states_graph = nx.read_gml(os.getcwd() + '/Graphs/states_graph.gml')"
   ]
  },
  {
   "cell_type": "code",
   "execution_count": 3,
   "metadata": {},
   "outputs": [
    {
     "data": {
      "text/plain": [
       "(3109, 9247)"
      ]
     },
     "execution_count": 3,
     "metadata": {},
     "output_type": "execute_result"
    }
   ],
   "source": [
    "counties_graph.number_of_nodes(), counties_graph.number_of_edges()"
   ]
  },
  {
   "cell_type": "code",
   "execution_count": 4,
   "metadata": {},
   "outputs": [
    {
     "data": {
      "text/plain": [
       "(49, 107)"
      ]
     },
     "execution_count": 4,
     "metadata": {},
     "output_type": "execute_result"
    }
   ],
   "source": [
    "states_graph.number_of_nodes(), states_graph.number_of_edges()"
   ]
  },
  {
   "cell_type": "markdown",
   "metadata": {},
   "source": [
    "#### Basic Analysis"
   ]
  },
  {
   "cell_type": "code",
   "execution_count": 5,
   "metadata": {},
   "outputs": [],
   "source": [
    "def basic_analysis(nw, name) -> None:\n",
    "    \"\"\"Basic statistics of an undirected network\n",
    "    Parameters:\n",
    "        nw (NetworkX Graph): an undirected graph\n",
    "        name (str): the name of the network\n",
    "    Returns:\n",
    "        None\"\"\"\n",
    "    \n",
    "    print('Network: {}'.format(name))\n",
    "    print('\\n')\n",
    "    print(nx.info(nw))\n",
    "    print('Density:', nx.density(nw))\n",
    "\n",
    "    print('Avg Degree:', np.mean([d for _, d in nw.degree()]))\n",
    "    print('Median Degree:', np.median([d for _, d in states_graph.degree()]))\n",
    "    deg_dict = dict(nw.degree())\n",
    "    max_deg, min_deg = max(deg_dict.values()), min(deg_dict.values())\n",
    "    print('Max Degree:', max_deg)\n",
    "    print('Nodes with max degree:', [n for n in deg_dict if deg_dict[n] == max_deg])\n",
    "    print('Min Degree:', min_deg)\n",
    "    print('Nodes with min degree:', [n for n in deg_dict if deg_dict[n] == min_deg])"
   ]
  },
  {
   "cell_type": "code",
   "execution_count": 6,
   "metadata": {},
   "outputs": [
    {
     "name": "stdout",
     "output_type": "stream",
     "text": [
      "Network: US States\n",
      "\n",
      "\n",
      "Graph with 49 nodes and 107 edges\n",
      "Density: 0.09098639455782313\n",
      "Avg Degree: 4.36734693877551\n",
      "Median Degree: 4.0\n",
      "Max Degree: 8\n",
      "Nodes with max degree: ['TN', 'MO']\n",
      "Min Degree: 1\n",
      "Nodes with min degree: ['ME']\n"
     ]
    }
   ],
   "source": [
    "basic_analysis(states_graph, 'US States')"
   ]
  },
  {
   "cell_type": "code",
   "execution_count": 7,
   "metadata": {},
   "outputs": [
    {
     "name": "stdout",
     "output_type": "stream",
     "text": [
      "Network: US Counties\n",
      "\n",
      "\n",
      "Graph with 3109 nodes and 9247 edges\n",
      "Density: 0.0019139435350435672\n",
      "Avg Degree: 5.948536506915407\n",
      "Median Degree: 4.0\n",
      "Max Degree: 14\n",
      "Nodes with max degree: ['San Juan County, UT']\n",
      "Min Degree: 1\n",
      "Nodes with min degree: ['Nantucket County, MA', 'Charlottesville city, VA', 'Covington city, VA', 'Staunton city, VA', 'Waynesboro city, VA', 'Bedford city, VA', 'Fairfax city, VA', 'Winchester city, VA', 'Emporia city, VA', 'Martinsville city, VA', 'Buena Vista city, VA', 'Lexington city, VA', 'Harrisonburg city, VA', 'Norton city, VA']\n"
     ]
    }
   ],
   "source": [
    "basic_analysis(counties_graph, 'US Counties')"
   ]
  }
 ],
 "metadata": {
  "kernelspec": {
   "display_name": "Python 3",
   "language": "python",
   "name": "python3"
  },
  "language_info": {
   "codemirror_mode": {
    "name": "ipython",
    "version": 3
   },
   "file_extension": ".py",
   "mimetype": "text/x-python",
   "name": "python",
   "nbconvert_exporter": "python",
   "pygments_lexer": "ipython3",
   "version": "3.8.2"
  }
 },
 "nbformat": 4,
 "nbformat_minor": 4
}
