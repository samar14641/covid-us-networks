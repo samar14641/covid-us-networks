{
 "cells": [
  {
   "cell_type": "markdown",
   "metadata": {},
   "source": [
    "#### Import modules"
   ]
  },
  {
   "cell_type": "code",
   "execution_count": 1,
   "metadata": {},
   "outputs": [],
   "source": [
    "import json\n",
    "import matplotlib.pyplot as plt\n",
    "import networkx as nx\n",
    "import os\n",
    "import pandas as pd"
   ]
  },
  {
   "cell_type": "markdown",
   "metadata": {},
   "source": [
    "### States\n",
    "\n",
    "#### Read states data file"
   ]
  },
  {
   "cell_type": "code",
   "execution_count": 2,
   "metadata": {},
   "outputs": [
    {
     "data": {
      "text/plain": [
       "51"
      ]
     },
     "execution_count": 2,
     "metadata": {},
     "output_type": "execute_result"
    }
   ],
   "source": [
    "states_adj = {}\n",
    "\n",
    "with open(os.getcwd() + '/Data/usa-state-data.json', 'r') as state_json:\n",
    "    states_adj = json.load(state_json)\n",
    "    \n",
    "len(states_adj)"
   ]
  },
  {
   "cell_type": "code",
   "execution_count": 3,
   "metadata": {},
   "outputs": [],
   "source": [
    "# states_adj"
   ]
  },
  {
   "cell_type": "markdown",
   "metadata": {},
   "source": [
    "#### Create states code and name maps"
   ]
  },
  {
   "cell_type": "code",
   "execution_count": 4,
   "metadata": {},
   "outputs": [
    {
     "data": {
      "text/plain": [
       "('Massachusetts', 'MA')"
      ]
     },
     "execution_count": 4,
     "metadata": {},
     "output_type": "execute_result"
    }
   ],
   "source": [
    "code_to_name, name_to_code = {}, {}\n",
    "\n",
    "for code in states_adj:\n",
    "    name = states_adj[code]['name']\n",
    "    code_to_name[code] = name\n",
    "    name_to_code[name] = code\n",
    "    \n",
    "code_to_name['MA'], name_to_code['Massachusetts']"
   ]
  },
  {
   "cell_type": "markdown",
   "metadata": {},
   "source": [
    "#### Create network of states"
   ]
  },
  {
   "cell_type": "code",
   "execution_count": 5,
   "metadata": {},
   "outputs": [],
   "source": [
    "ignore_states = ()\n",
    "\n",
    "state_cons = []\n",
    "\n",
    "for s in states_adj:\n",
    "    if s not in ignore_states:\n",
    "        for n in states_adj[s]['adjacent']:  # lists for AK and HI are empty, hence this loop is not run for them\n",
    "            state_cons.append([s, n, states_adj[s]['region'], states_adj[n]['region']])"
   ]
  },
  {
   "cell_type": "code",
   "execution_count": 6,
   "metadata": {},
   "outputs": [],
   "source": [
    "# state_cons"
   ]
  },
  {
   "cell_type": "code",
   "execution_count": 7,
   "metadata": {},
   "outputs": [
    {
     "data": {
      "text/html": [
       "<div>\n",
       "<style scoped>\n",
       "    .dataframe tbody tr th:only-of-type {\n",
       "        vertical-align: middle;\n",
       "    }\n",
       "\n",
       "    .dataframe tbody tr th {\n",
       "        vertical-align: top;\n",
       "    }\n",
       "\n",
       "    .dataframe thead th {\n",
       "        text-align: right;\n",
       "    }\n",
       "</style>\n",
       "<table border=\"1\" class=\"dataframe\">\n",
       "  <thead>\n",
       "    <tr style=\"text-align: right;\">\n",
       "      <th></th>\n",
       "      <th>state1</th>\n",
       "      <th>state2</th>\n",
       "      <th>state1_region</th>\n",
       "      <th>state2_region</th>\n",
       "      <th>same_region</th>\n",
       "    </tr>\n",
       "  </thead>\n",
       "  <tbody>\n",
       "    <tr>\n",
       "      <th>0</th>\n",
       "      <td>AL</td>\n",
       "      <td>FL</td>\n",
       "      <td>South</td>\n",
       "      <td>South</td>\n",
       "      <td>True</td>\n",
       "    </tr>\n",
       "    <tr>\n",
       "      <th>1</th>\n",
       "      <td>AL</td>\n",
       "      <td>GA</td>\n",
       "      <td>South</td>\n",
       "      <td>South</td>\n",
       "      <td>True</td>\n",
       "    </tr>\n",
       "    <tr>\n",
       "      <th>2</th>\n",
       "      <td>AL</td>\n",
       "      <td>TN</td>\n",
       "      <td>South</td>\n",
       "      <td>South</td>\n",
       "      <td>True</td>\n",
       "    </tr>\n",
       "    <tr>\n",
       "      <th>3</th>\n",
       "      <td>AL</td>\n",
       "      <td>MS</td>\n",
       "      <td>South</td>\n",
       "      <td>South</td>\n",
       "      <td>True</td>\n",
       "    </tr>\n",
       "    <tr>\n",
       "      <th>4</th>\n",
       "      <td>AZ</td>\n",
       "      <td>NM</td>\n",
       "      <td>West</td>\n",
       "      <td>West</td>\n",
       "      <td>True</td>\n",
       "    </tr>\n",
       "  </tbody>\n",
       "</table>\n",
       "</div>"
      ],
      "text/plain": [
       "  state1 state2 state1_region state2_region  same_region\n",
       "0     AL     FL         South         South         True\n",
       "1     AL     GA         South         South         True\n",
       "2     AL     TN         South         South         True\n",
       "3     AL     MS         South         South         True\n",
       "4     AZ     NM          West          West         True"
      ]
     },
     "execution_count": 7,
     "metadata": {},
     "output_type": "execute_result"
    }
   ],
   "source": [
    "states_edge_pairs = pd.DataFrame(state_cons, columns = ['state1', 'state2', 'state1_region', 'state2_region'])\n",
    "states_edge_pairs['same_region'] = states_edge_pairs['state1_region'] == states_edge_pairs['state2_region'] \n",
    "states_edge_pairs.head()"
   ]
  },
  {
   "cell_type": "code",
   "execution_count": 8,
   "metadata": {},
   "outputs": [
    {
     "data": {
      "text/html": [
       "<div>\n",
       "<style scoped>\n",
       "    .dataframe tbody tr th:only-of-type {\n",
       "        vertical-align: middle;\n",
       "    }\n",
       "\n",
       "    .dataframe tbody tr th {\n",
       "        vertical-align: top;\n",
       "    }\n",
       "\n",
       "    .dataframe thead th {\n",
       "        text-align: right;\n",
       "    }\n",
       "</style>\n",
       "<table border=\"1\" class=\"dataframe\">\n",
       "  <thead>\n",
       "    <tr style=\"text-align: right;\">\n",
       "      <th></th>\n",
       "      <th>state1_region</th>\n",
       "    </tr>\n",
       "    <tr>\n",
       "      <th>state1</th>\n",
       "      <th></th>\n",
       "    </tr>\n",
       "  </thead>\n",
       "  <tbody>\n",
       "    <tr>\n",
       "      <th>AL</th>\n",
       "      <td>South</td>\n",
       "    </tr>\n",
       "    <tr>\n",
       "      <th>AZ</th>\n",
       "      <td>West</td>\n",
       "    </tr>\n",
       "    <tr>\n",
       "      <th>AR</th>\n",
       "      <td>South</td>\n",
       "    </tr>\n",
       "    <tr>\n",
       "      <th>CA</th>\n",
       "      <td>West</td>\n",
       "    </tr>\n",
       "    <tr>\n",
       "      <th>CO</th>\n",
       "      <td>West</td>\n",
       "    </tr>\n",
       "  </tbody>\n",
       "</table>\n",
       "</div>"
      ],
      "text/plain": [
       "       state1_region\n",
       "state1              \n",
       "AL             South\n",
       "AZ              West\n",
       "AR             South\n",
       "CA              West\n",
       "CO              West"
      ]
     },
     "execution_count": 8,
     "metadata": {},
     "output_type": "execute_result"
    }
   ],
   "source": [
    "states_regions = states_edge_pairs[['state1', 'state1_region']].drop_duplicates().set_index('state1')\n",
    "states_regions.head()"
   ]
  },
  {
   "cell_type": "code",
   "execution_count": 9,
   "metadata": {},
   "outputs": [],
   "source": [
    "states_graph = nx.from_pandas_edgelist(states_edge_pairs, 'state1', 'state2', ['same_region'])\n",
    "nx.set_node_attributes(states_graph, values = states_regions['state1_region'].to_dict(), name = 'Region')"
   ]
  },
  {
   "cell_type": "code",
   "execution_count": 10,
   "metadata": {},
   "outputs": [
    {
     "data": {
      "text/plain": [
       "'Northeast'"
      ]
     },
     "execution_count": 10,
     "metadata": {},
     "output_type": "execute_result"
    }
   ],
   "source": [
    "states_graph.nodes['MA']['Region']"
   ]
  },
  {
   "cell_type": "code",
   "execution_count": 11,
   "metadata": {},
   "outputs": [
    {
     "data": {
      "text/plain": [
       "AtlasView({'CT': {'same_region': True}, 'NH': {'same_region': True}, 'VT': {'same_region': True}, 'NY': {'same_region': True}, 'RI': {'same_region': True}})"
      ]
     },
     "execution_count": 11,
     "metadata": {},
     "output_type": "execute_result"
    }
   ],
   "source": [
    "states_graph['MA']"
   ]
  },
  {
   "cell_type": "code",
   "execution_count": 12,
   "metadata": {},
   "outputs": [
    {
     "data": {
      "text/plain": [
       "(49, 107)"
      ]
     },
     "execution_count": 12,
     "metadata": {},
     "output_type": "execute_result"
    }
   ],
   "source": [
    "states_graph.number_of_nodes(), states_graph.number_of_edges()"
   ]
  },
  {
   "cell_type": "code",
   "execution_count": 13,
   "metadata": {},
   "outputs": [],
   "source": [
    "nx.write_gml(states_graph, os.getcwd() + '/Graphs/states_graph.gml')"
   ]
  },
  {
   "cell_type": "code",
   "execution_count": 14,
   "metadata": {},
   "outputs": [
    {
     "data": {
      "image/png": "[encoded data removed]",
      "text/plain": [
       "<Figure size 648x648 with 1 Axes>"
      ]
     },
     "metadata": {},
     "output_type": "display_data"
    }
   ],
   "source": [
    "fig = plt.figure(figsize = (9, 9))\n",
    "nx.draw_planar(states_graph, node_color = '#add8e6', with_labels = True)\n",
    "plt.title('US States Network')\n",
    "plt.show()\n",
    "plt.close()"
   ]
  },
  {
   "cell_type": "markdown",
   "metadata": {},
   "source": [
    "### Counties\n",
    "\n",
    "#### Read counties data file"
   ]
  },
  {
   "cell_type": "code",
   "execution_count": 12,
   "metadata": {},
   "outputs": [
    {
     "data": {
      "text/plain": [
       "(22200, 4)"
      ]
     },
     "execution_count": 12,
     "metadata": {},
     "output_type": "execute_result"
    }
   ],
   "source": [
    "counties = pd.read_csv(os.getcwd() + '/Data/county_adjacency.csv')\n",
    "counties.shape"
   ]
  },
  {
   "cell_type": "code",
   "execution_count": 13,
   "metadata": {},
   "outputs": [
    {
     "data": {
      "text/html": [
       "<div>\n",
       "<style scoped>\n",
       "    .dataframe tbody tr th:only-of-type {\n",
       "        vertical-align: middle;\n",
       "    }\n",
       "\n",
       "    .dataframe tbody tr th {\n",
       "        vertical-align: top;\n",
       "    }\n",
       "\n",
       "    .dataframe thead th {\n",
       "        text-align: right;\n",
       "    }\n",
       "</style>\n",
       "<table border=\"1\" class=\"dataframe\">\n",
       "  <thead>\n",
       "    <tr style=\"text-align: right;\">\n",
       "      <th></th>\n",
       "      <th>countyname</th>\n",
       "      <th>fipscounty</th>\n",
       "      <th>neighborname</th>\n",
       "      <th>fipsneighbor</th>\n",
       "    </tr>\n",
       "  </thead>\n",
       "  <tbody>\n",
       "    <tr>\n",
       "      <th>0</th>\n",
       "      <td>Autauga County, AL</td>\n",
       "      <td>1001</td>\n",
       "      <td>Autauga County, AL</td>\n",
       "      <td>1001</td>\n",
       "    </tr>\n",
       "    <tr>\n",
       "      <th>1</th>\n",
       "      <td>Autauga County, AL</td>\n",
       "      <td>1001</td>\n",
       "      <td>Chilton County, AL</td>\n",
       "      <td>1021</td>\n",
       "    </tr>\n",
       "    <tr>\n",
       "      <th>2</th>\n",
       "      <td>Autauga County, AL</td>\n",
       "      <td>1001</td>\n",
       "      <td>Dallas County, AL</td>\n",
       "      <td>1047</td>\n",
       "    </tr>\n",
       "    <tr>\n",
       "      <th>3</th>\n",
       "      <td>Autauga County, AL</td>\n",
       "      <td>1001</td>\n",
       "      <td>Elmore County, AL</td>\n",
       "      <td>1051</td>\n",
       "    </tr>\n",
       "    <tr>\n",
       "      <th>4</th>\n",
       "      <td>Autauga County, AL</td>\n",
       "      <td>1001</td>\n",
       "      <td>Lowndes County, AL</td>\n",
       "      <td>1085</td>\n",
       "    </tr>\n",
       "  </tbody>\n",
       "</table>\n",
       "</div>"
      ],
      "text/plain": [
       "           countyname  fipscounty        neighborname  fipsneighbor\n",
       "0  Autauga County, AL        1001  Autauga County, AL          1001\n",
       "1  Autauga County, AL        1001  Chilton County, AL          1021\n",
       "2  Autauga County, AL        1001   Dallas County, AL          1047\n",
       "3  Autauga County, AL        1001   Elmore County, AL          1051\n",
       "4  Autauga County, AL        1001  Lowndes County, AL          1085"
      ]
     },
     "execution_count": 13,
     "metadata": {},
     "output_type": "execute_result"
    }
   ],
   "source": [
    "counties.head()"
   ]
  },
  {
   "cell_type": "markdown",
   "metadata": {},
   "source": [
    "#### Preprocessing"
   ]
  },
  {
   "cell_type": "markdown",
   "metadata": {},
   "source": [
    "Get states of counties"
   ]
  },
  {
   "cell_type": "code",
   "execution_count": 14,
   "metadata": {},
   "outputs": [
    {
     "data": {
      "text/html": [
       "<div>\n",
       "<style scoped>\n",
       "    .dataframe tbody tr th:only-of-type {\n",
       "        vertical-align: middle;\n",
       "    }\n",
       "\n",
       "    .dataframe tbody tr th {\n",
       "        vertical-align: top;\n",
       "    }\n",
       "\n",
       "    .dataframe thead th {\n",
       "        text-align: right;\n",
       "    }\n",
       "</style>\n",
       "<table border=\"1\" class=\"dataframe\">\n",
       "  <thead>\n",
       "    <tr style=\"text-align: right;\">\n",
       "      <th></th>\n",
       "      <th>countyname</th>\n",
       "      <th>fipscounty</th>\n",
       "      <th>neighborname</th>\n",
       "      <th>fipsneighbor</th>\n",
       "      <th>county_state</th>\n",
       "      <th>neighb_state</th>\n",
       "    </tr>\n",
       "  </thead>\n",
       "  <tbody>\n",
       "    <tr>\n",
       "      <th>0</th>\n",
       "      <td>Autauga County, AL</td>\n",
       "      <td>1001</td>\n",
       "      <td>Autauga County, AL</td>\n",
       "      <td>1001</td>\n",
       "      <td>AL</td>\n",
       "      <td>AL</td>\n",
       "    </tr>\n",
       "    <tr>\n",
       "      <th>1</th>\n",
       "      <td>Autauga County, AL</td>\n",
       "      <td>1001</td>\n",
       "      <td>Chilton County, AL</td>\n",
       "      <td>1021</td>\n",
       "      <td>AL</td>\n",
       "      <td>AL</td>\n",
       "    </tr>\n",
       "    <tr>\n",
       "      <th>2</th>\n",
       "      <td>Autauga County, AL</td>\n",
       "      <td>1001</td>\n",
       "      <td>Dallas County, AL</td>\n",
       "      <td>1047</td>\n",
       "      <td>AL</td>\n",
       "      <td>AL</td>\n",
       "    </tr>\n",
       "    <tr>\n",
       "      <th>3</th>\n",
       "      <td>Autauga County, AL</td>\n",
       "      <td>1001</td>\n",
       "      <td>Elmore County, AL</td>\n",
       "      <td>1051</td>\n",
       "      <td>AL</td>\n",
       "      <td>AL</td>\n",
       "    </tr>\n",
       "    <tr>\n",
       "      <th>4</th>\n",
       "      <td>Autauga County, AL</td>\n",
       "      <td>1001</td>\n",
       "      <td>Lowndes County, AL</td>\n",
       "      <td>1085</td>\n",
       "      <td>AL</td>\n",
       "      <td>AL</td>\n",
       "    </tr>\n",
       "  </tbody>\n",
       "</table>\n",
       "</div>"
      ],
      "text/plain": [
       "           countyname  fipscounty        neighborname  fipsneighbor  \\\n",
       "0  Autauga County, AL        1001  Autauga County, AL          1001   \n",
       "1  Autauga County, AL        1001  Chilton County, AL          1021   \n",
       "2  Autauga County, AL        1001   Dallas County, AL          1047   \n",
       "3  Autauga County, AL        1001   Elmore County, AL          1051   \n",
       "4  Autauga County, AL        1001  Lowndes County, AL          1085   \n",
       "\n",
       "  county_state neighb_state  \n",
       "0           AL           AL  \n",
       "1           AL           AL  \n",
       "2           AL           AL  \n",
       "3           AL           AL  \n",
       "4           AL           AL  "
      ]
     },
     "execution_count": 14,
     "metadata": {},
     "output_type": "execute_result"
    }
   ],
   "source": [
    "counties['county_state'] = counties['countyname'].apply(lambda x: x.split(',')[-1].strip())\n",
    "counties['neighb_state'] = counties['neighborname'].apply(lambda x: x.split(',')[-1].strip())\n",
    "\n",
    "counties.head()"
   ]
  },
  {
   "cell_type": "code",
   "execution_count": 15,
   "metadata": {},
   "outputs": [
    {
     "data": {
      "text/plain": [
       "(21583, 6)"
      ]
     },
     "execution_count": 15,
     "metadata": {},
     "output_type": "execute_result"
    }
   ],
   "source": [
    "exclude = ['AK', 'HI', 'AS', 'GU', 'MP', 'PR', 'VI']\n",
    "\n",
    "counties = counties[~counties['county_state'].isin(exclude)]\n",
    "counties.shape"
   ]
  },
  {
   "cell_type": "markdown",
   "metadata": {},
   "source": [
    "#### Create network of counties"
   ]
  },
  {
   "cell_type": "code",
   "execution_count": 16,
   "metadata": {},
   "outputs": [],
   "source": [
    "counties_graph = nx.from_pandas_edgelist(counties, 'countyname', 'neighborname', ['county_state', 'neighb_state'])"
   ]
  },
  {
   "cell_type": "code",
   "execution_count": 17,
   "metadata": {},
   "outputs": [
    {
     "data": {
      "text/plain": [
       "AtlasView({'Essex County, MA': {'county_state': 'MA', 'neighb_state': 'MA'}, 'Middlesex County, MA': {'county_state': 'MA', 'neighb_state': 'MA'}, 'Norfolk County, MA': {'county_state': 'MA', 'neighb_state': 'MA'}, 'Plymouth County, MA': {'county_state': 'MA', 'neighb_state': 'MA'}, 'Suffolk County, MA': {'county_state': 'MA', 'neighb_state': 'MA'}})"
      ]
     },
     "execution_count": 17,
     "metadata": {},
     "output_type": "execute_result"
    }
   ],
   "source": [
    "counties_graph['Suffolk County, MA']"
   ]
  },
  {
   "cell_type": "code",
   "execution_count": 18,
   "metadata": {},
   "outputs": [
    {
     "data": {
      "text/plain": [
       "(3109, 12354)"
      ]
     },
     "execution_count": 18,
     "metadata": {},
     "output_type": "execute_result"
    }
   ],
   "source": [
    "counties_graph.number_of_nodes(), counties_graph.number_of_edges()"
   ]
  },
  {
   "cell_type": "markdown",
   "metadata": {},
   "source": [
    "Remove self loops"
   ]
  },
  {
   "cell_type": "code",
   "execution_count": 19,
   "metadata": {},
   "outputs": [
    {
     "data": {
      "text/plain": [
       "(3109, 9247)"
      ]
     },
     "execution_count": 19,
     "metadata": {},
     "output_type": "execute_result"
    }
   ],
   "source": [
    "counties_graph.remove_edges_from(nx.selfloop_edges(counties_graph))\n",
    "\n",
    "counties_graph.number_of_nodes(), counties_graph.number_of_edges()"
   ]
  },
  {
   "cell_type": "code",
   "execution_count": 20,
   "metadata": {},
   "outputs": [
    {
     "data": {
      "text/plain": [
       "AtlasView({'Essex County, MA': {'county_state': 'MA', 'neighb_state': 'MA'}, 'Middlesex County, MA': {'county_state': 'MA', 'neighb_state': 'MA'}, 'Norfolk County, MA': {'county_state': 'MA', 'neighb_state': 'MA'}, 'Plymouth County, MA': {'county_state': 'MA', 'neighb_state': 'MA'}})"
      ]
     },
     "execution_count": 20,
     "metadata": {},
     "output_type": "execute_result"
    }
   ],
   "source": [
    "counties_graph['Suffolk County, MA']"
   ]
  },
  {
   "cell_type": "code",
   "execution_count": 21,
   "metadata": {},
   "outputs": [],
   "source": [
    "nx.write_gml(counties_graph, os.getcwd() + '/Graphs/counties_graph.gml')"
   ]
  }
 ],
 "metadata": {
  "kernelspec": {
   "display_name": "Python 3",
   "language": "python",
   "name": "python3"
  },
  "language_info": {
   "codemirror_mode": {
    "name": "ipython",
    "version": 3
   },
   "file_extension": ".py",
   "mimetype": "text/x-python",
   "name": "python",
   "nbconvert_exporter": "python",
   "pygments_lexer": "ipython3",
   "version": "3.8.2"
  }
 },
 "nbformat": 4,
 "nbformat_minor": 4
}
