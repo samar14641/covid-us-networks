{
 "cells": [
  {
   "cell_type": "code",
   "execution_count": 1,
   "metadata": {},
   "outputs": [],
   "source": [
    "import matplotlib.pyplot as plt\n",
    "import networkx as nx\n",
    "import os\n",
    "import pandas as pd"
   ]
  },
  {
   "cell_type": "code",
   "execution_count": 41,
   "metadata": {},
   "outputs": [
    {
     "data": {
      "text/plain": [
       "(1806761, 6)"
      ]
     },
     "execution_count": 41,
     "metadata": {},
     "output_type": "execute_result"
    }
   ],
   "source": [
    "# df = pd.read_csv(os.getcwd() + '/Data/us_states_clean.csv').drop(columns = ['Unnamed: 0'])\n",
    "df = pd.read_csv(os.getcwd() + '/Data/us_counties_clean.csv').drop(columns = ['Unnamed: 0'])\n",
    "df['date'] = pd.to_datetime(df['date'])\n",
    "df.shape"
   ]
  },
  {
   "cell_type": "code",
   "execution_count": 42,
   "metadata": {},
   "outputs": [
    {
     "data": {
      "text/html": [
       "<div>\n",
       "<style scoped>\n",
       "    .dataframe tbody tr th:only-of-type {\n",
       "        vertical-align: middle;\n",
       "    }\n",
       "\n",
       "    .dataframe tbody tr th {\n",
       "        vertical-align: top;\n",
       "    }\n",
       "\n",
       "    .dataframe thead th {\n",
       "        text-align: right;\n",
       "    }\n",
       "</style>\n",
       "<table border=\"1\" class=\"dataframe\">\n",
       "  <thead>\n",
       "    <tr style=\"text-align: right;\">\n",
       "      <th></th>\n",
       "      <th>date</th>\n",
       "      <th>county</th>\n",
       "      <th>fips</th>\n",
       "      <th>cases</th>\n",
       "      <th>deaths</th>\n",
       "      <th>new_cases</th>\n",
       "    </tr>\n",
       "  </thead>\n",
       "  <tbody>\n",
       "    <tr>\n",
       "      <th>1806756</th>\n",
       "      <td>2021-10-31</td>\n",
       "      <td>Sweetwater County, WY</td>\n",
       "      <td>56037.0</td>\n",
       "      <td>7575</td>\n",
       "      <td>80.0</td>\n",
       "      <td>0.0</td>\n",
       "    </tr>\n",
       "    <tr>\n",
       "      <th>1806757</th>\n",
       "      <td>2021-10-31</td>\n",
       "      <td>Teton County, WY</td>\n",
       "      <td>56039.0</td>\n",
       "      <td>5204</td>\n",
       "      <td>14.0</td>\n",
       "      <td>0.0</td>\n",
       "    </tr>\n",
       "    <tr>\n",
       "      <th>1806758</th>\n",
       "      <td>2021-10-31</td>\n",
       "      <td>Uinta County, WY</td>\n",
       "      <td>56041.0</td>\n",
       "      <td>3829</td>\n",
       "      <td>26.0</td>\n",
       "      <td>0.0</td>\n",
       "    </tr>\n",
       "    <tr>\n",
       "      <th>1806759</th>\n",
       "      <td>2021-10-31</td>\n",
       "      <td>Washakie County, WY</td>\n",
       "      <td>56043.0</td>\n",
       "      <td>1730</td>\n",
       "      <td>35.0</td>\n",
       "      <td>0.0</td>\n",
       "    </tr>\n",
       "    <tr>\n",
       "      <th>1806760</th>\n",
       "      <td>2021-10-31</td>\n",
       "      <td>Weston County, WY</td>\n",
       "      <td>56045.0</td>\n",
       "      <td>1109</td>\n",
       "      <td>9.0</td>\n",
       "      <td>0.0</td>\n",
       "    </tr>\n",
       "  </tbody>\n",
       "</table>\n",
       "</div>"
      ],
      "text/plain": [
       "              date                 county     fips  cases  deaths  new_cases\n",
       "1806756 2021-10-31  Sweetwater County, WY  56037.0   7575    80.0        0.0\n",
       "1806757 2021-10-31       Teton County, WY  56039.0   5204    14.0        0.0\n",
       "1806758 2021-10-31       Uinta County, WY  56041.0   3829    26.0        0.0\n",
       "1806759 2021-10-31    Washakie County, WY  56043.0   1730    35.0        0.0\n",
       "1806760 2021-10-31      Weston County, WY  56045.0   1109     9.0        0.0"
      ]
     },
     "execution_count": 42,
     "metadata": {},
     "output_type": "execute_result"
    }
   ],
   "source": [
    "df.tail()"
   ]
  },
  {
   "cell_type": "code",
   "execution_count": 43,
   "metadata": {},
   "outputs": [],
   "source": [
    "start_date, end_date = '2020-04-01', '2020-04-30'\n",
    "\n",
    "df = df[(df['date'] >= start_date) & (df['date'] <= end_date)]"
   ]
  },
  {
   "cell_type": "code",
   "execution_count": 45,
   "metadata": {},
   "outputs": [
    {
     "data": {
      "text/plain": [
       "(2847, 2847)"
      ]
     },
     "execution_count": 45,
     "metadata": {},
     "output_type": "execute_result"
    }
   ],
   "source": [
    "# df_corrs = df.pivot(index = 'date', columns = 'state_code', values = 'new_cases').corr()\n",
    "df_corrs = df.pivot(index = 'date', columns = 'county', values = 'new_cases').corr()\n",
    "df_corrs.shape"
   ]
  },
  {
   "cell_type": "code",
   "execution_count": 46,
   "metadata": {},
   "outputs": [
    {
     "data": {
      "text/html": [
       "<div>\n",
       "<style scoped>\n",
       "    .dataframe tbody tr th:only-of-type {\n",
       "        vertical-align: middle;\n",
       "    }\n",
       "\n",
       "    .dataframe tbody tr th {\n",
       "        vertical-align: top;\n",
       "    }\n",
       "\n",
       "    .dataframe thead th {\n",
       "        text-align: right;\n",
       "    }\n",
       "</style>\n",
       "<table border=\"1\" class=\"dataframe\">\n",
       "  <thead>\n",
       "    <tr style=\"text-align: right;\">\n",
       "      <th></th>\n",
       "      <th>var1</th>\n",
       "      <th>var2</th>\n",
       "      <th>weight</th>\n",
       "    </tr>\n",
       "  </thead>\n",
       "  <tbody>\n",
       "    <tr>\n",
       "      <th>0</th>\n",
       "      <td>Abbeville County, SC</td>\n",
       "      <td>Abbeville County, SC</td>\n",
       "      <td>1.000000</td>\n",
       "    </tr>\n",
       "    <tr>\n",
       "      <th>1</th>\n",
       "      <td>Abbeville County, SC</td>\n",
       "      <td>Acadia County, LA</td>\n",
       "      <td>-0.099907</td>\n",
       "    </tr>\n",
       "    <tr>\n",
       "      <th>2</th>\n",
       "      <td>Abbeville County, SC</td>\n",
       "      <td>Accomack County, VA</td>\n",
       "      <td>0.199051</td>\n",
       "    </tr>\n",
       "    <tr>\n",
       "      <th>3</th>\n",
       "      <td>Abbeville County, SC</td>\n",
       "      <td>Ada County, ID</td>\n",
       "      <td>-0.147694</td>\n",
       "    </tr>\n",
       "    <tr>\n",
       "      <th>4</th>\n",
       "      <td>Abbeville County, SC</td>\n",
       "      <td>Adair County, KY</td>\n",
       "      <td>-0.012497</td>\n",
       "    </tr>\n",
       "  </tbody>\n",
       "</table>\n",
       "</div>"
      ],
      "text/plain": [
       "                   var1                  var2    weight\n",
       "0  Abbeville County, SC  Abbeville County, SC  1.000000\n",
       "1  Abbeville County, SC     Acadia County, LA -0.099907\n",
       "2  Abbeville County, SC   Accomack County, VA  0.199051\n",
       "3  Abbeville County, SC        Ada County, ID -0.147694\n",
       "4  Abbeville County, SC      Adair County, KY -0.012497"
      ]
     },
     "execution_count": 46,
     "metadata": {},
     "output_type": "execute_result"
    }
   ],
   "source": [
    "# edge_list = []\n",
    "\n",
    "# for col in df_corrs.columns:\n",
    "#     for neighb in df_corrs[col][df_corrs[col] > 0.2].index:\n",
    "#         if col != neighb and (neighb, col, df_corrs.loc[col, neighb]) not in edge_list:\n",
    "#             edge_list.append((col, neighb, df_corrs.loc[col, neighb]))\n",
    "            \n",
    "# len(edge_list)\n",
    "links = pd.DataFrame(df_corrs.values, columns = df_corrs.columns.values).set_index(keys = df_corrs.columns.values).stack().reset_index()\n",
    "links.rename(columns = {'level_0': 'var1', 'level_1': 'var2', 0: 'weight'}, inplace = True)\n",
    "links.head()"
   ]
  },
  {
   "cell_type": "code",
   "execution_count": 47,
   "metadata": {},
   "outputs": [
    {
     "data": {
      "text/plain": [
       "(188766, 3)"
      ]
     },
     "execution_count": 47,
     "metadata": {},
     "output_type": "execute_result"
    }
   ],
   "source": [
    "links_f = links.loc[(links['weight'] > 0.5) & (links['var1'] != links['var2'])]\n",
    "links_f.shape"
   ]
  },
  {
   "cell_type": "code",
   "execution_count": 48,
   "metadata": {},
   "outputs": [],
   "source": [
    "corr_g = nx.from_pandas_edgelist(links_f, 'var1', 'var2')"
   ]
  },
  {
   "cell_type": "code",
   "execution_count": 49,
   "metadata": {},
   "outputs": [
    {
     "data": {
      "text/plain": [
       "'Graph with 2639 nodes and 94383 edges'"
      ]
     },
     "execution_count": 49,
     "metadata": {},
     "output_type": "execute_result"
    }
   ],
   "source": [
    "# corr_g = nx.Graph()\n",
    "# corr_g.add_weighted_edges_from(edge_list)\n",
    "nx.info(corr_g)"
   ]
  },
  {
   "cell_type": "code",
   "execution_count": 50,
   "metadata": {},
   "outputs": [],
   "source": [
    "# fig = plt.figure(figsize = (8, 8))\n",
    "# nx.draw(corr_g, node_color = '#add8e6', with_labels = True)\n",
    "# plt.show()\n",
    "# plt.close()"
   ]
  },
  {
   "cell_type": "code",
   "execution_count": 51,
   "metadata": {},
   "outputs": [],
   "source": [
    "# corr_g.get_edge_data('AR', 'RI')"
   ]
  },
  {
   "cell_type": "code",
   "execution_count": 52,
   "metadata": {},
   "outputs": [],
   "source": [
    "def degree_distro(nw, name) -> None:\n",
    "    \"\"\"Plots the degree distro of a network\n",
    "    Parameters:\n",
    "        nw (NetworkX Graph): an undirected graph\n",
    "        name (str): the name of the network\n",
    "    Returns:\n",
    "        None\"\"\"\n",
    "    \n",
    "    deg_freq = nx.degree_histogram(nw)[1 :]\n",
    "    degs = [i for i in range(1, len(deg_freq) + 1)]\n",
    "    \n",
    "    fig, ax = plt.subplots(figsize = (12, 8))\n",
    "#     plt.loglog(range(1, len(deg_freq)), deg_freq)\n",
    "    plt.scatter(degs, deg_freq, color = '#552583')\n",
    "    plt.plot(degs, deg_freq, color = '#00788c')\n",
    "    plt.title('{} Degree Distribution'.format(name))\n",
    "    plt.xlabel('Degree')\n",
    "    plt.ylabel('Frequency')\n",
    "    ax.spines['right'].set_visible(False)\n",
    "    ax.spines['top'].set_visible(False)\n",
    "#     plt.grid()\n",
    "    plt.show()\n",
    "    plt.close()"
   ]
  },
  {
   "cell_type": "code",
   "execution_count": 53,
   "metadata": {},
   "outputs": [
    {
     "data": {
      "image/png": "[encoded data removed]",
      "text/plain": [
       "<Figure size 864x576 with 1 Axes>"
      ]
     },
     "metadata": {
      "needs_background": "light"
     },
     "output_type": "display_data"
    }
   ],
   "source": [
    "degree_distro(corr_g, 'Counties')"
   ]
  }
 ],
 "metadata": {
  "kernelspec": {
   "display_name": "Python 3",
   "language": "python",
   "name": "python3"
  },
  "language_info": {
   "codemirror_mode": {
    "name": "ipython",
    "version": 3
   },
   "file_extension": ".py",
   "mimetype": "text/x-python",
   "name": "python",
   "nbconvert_exporter": "python",
   "pygments_lexer": "ipython3",
   "version": "3.8.2"
  }
 },
 "nbformat": 4,
 "nbformat_minor": 4
}
