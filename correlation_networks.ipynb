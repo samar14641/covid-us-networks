{
 "cells": [
  {
   "cell_type": "markdown",
   "metadata": {},
   "source": [
    "### Import modules and read data"
   ]
  },
  {
   "cell_type": "code",
   "execution_count": 37,
   "metadata": {},
   "outputs": [],
   "source": [
    "import matplotlib.pyplot as plt\n",
    "import networkx as nx\n",
    "import numpy as np\n",
    "import os\n",
    "import pandas as pd\n",
    "import powerlaw"
   ]
  },
  {
   "cell_type": "code",
   "execution_count": 2,
   "metadata": {},
   "outputs": [
    {
     "data": {
      "text/plain": [
       "(1807120, 7)"
      ]
     },
     "execution_count": 2,
     "metadata": {},
     "output_type": "execute_result"
    }
   ],
   "source": [
    "# df = pd.read_csv(os.getcwd() + '/Data/us_states_clean.csv').drop(columns = ['Unnamed: 0'])\n",
    "df = pd.read_csv(os.getcwd() + '/Data/us_counties_clean.csv').drop(columns = ['Unnamed: 0'])\n",
    "df['date'] = pd.to_datetime(df['date'])\n",
    "df.shape"
   ]
  },
  {
   "cell_type": "code",
   "execution_count": 3,
   "metadata": {},
   "outputs": [
    {
     "data": {
      "text/html": [
       "<div>\n",
       "<style scoped>\n",
       "    .dataframe tbody tr th:only-of-type {\n",
       "        vertical-align: middle;\n",
       "    }\n",
       "\n",
       "    .dataframe tbody tr th {\n",
       "        vertical-align: top;\n",
       "    }\n",
       "\n",
       "    .dataframe thead th {\n",
       "        text-align: right;\n",
       "    }\n",
       "</style>\n",
       "<table border=\"1\" class=\"dataframe\">\n",
       "  <thead>\n",
       "    <tr style=\"text-align: right;\">\n",
       "      <th></th>\n",
       "      <th>date</th>\n",
       "      <th>county</th>\n",
       "      <th>fips</th>\n",
       "      <th>cases</th>\n",
       "      <th>deaths</th>\n",
       "      <th>new_cases</th>\n",
       "      <th>new_deaths</th>\n",
       "    </tr>\n",
       "  </thead>\n",
       "  <tbody>\n",
       "    <tr>\n",
       "      <th>1807115</th>\n",
       "      <td>2021-10-31</td>\n",
       "      <td>Sweetwater County, WY</td>\n",
       "      <td>56037.0</td>\n",
       "      <td>7575</td>\n",
       "      <td>80.0</td>\n",
       "      <td>0.0</td>\n",
       "      <td>0.0</td>\n",
       "    </tr>\n",
       "    <tr>\n",
       "      <th>1807116</th>\n",
       "      <td>2021-10-31</td>\n",
       "      <td>Teton County, WY</td>\n",
       "      <td>56039.0</td>\n",
       "      <td>5204</td>\n",
       "      <td>14.0</td>\n",
       "      <td>0.0</td>\n",
       "      <td>0.0</td>\n",
       "    </tr>\n",
       "    <tr>\n",
       "      <th>1807117</th>\n",
       "      <td>2021-10-31</td>\n",
       "      <td>Uinta County, WY</td>\n",
       "      <td>56041.0</td>\n",
       "      <td>3829</td>\n",
       "      <td>26.0</td>\n",
       "      <td>0.0</td>\n",
       "      <td>0.0</td>\n",
       "    </tr>\n",
       "    <tr>\n",
       "      <th>1807118</th>\n",
       "      <td>2021-10-31</td>\n",
       "      <td>Washakie County, WY</td>\n",
       "      <td>56043.0</td>\n",
       "      <td>1730</td>\n",
       "      <td>35.0</td>\n",
       "      <td>0.0</td>\n",
       "      <td>0.0</td>\n",
       "    </tr>\n",
       "    <tr>\n",
       "      <th>1807119</th>\n",
       "      <td>2021-10-31</td>\n",
       "      <td>Weston County, WY</td>\n",
       "      <td>56045.0</td>\n",
       "      <td>1109</td>\n",
       "      <td>9.0</td>\n",
       "      <td>0.0</td>\n",
       "      <td>0.0</td>\n",
       "    </tr>\n",
       "  </tbody>\n",
       "</table>\n",
       "</div>"
      ],
      "text/plain": [
       "              date                 county     fips  cases  deaths  new_cases  \\\n",
       "1807115 2021-10-31  Sweetwater County, WY  56037.0   7575    80.0        0.0   \n",
       "1807116 2021-10-31       Teton County, WY  56039.0   5204    14.0        0.0   \n",
       "1807117 2021-10-31       Uinta County, WY  56041.0   3829    26.0        0.0   \n",
       "1807118 2021-10-31    Washakie County, WY  56043.0   1730    35.0        0.0   \n",
       "1807119 2021-10-31      Weston County, WY  56045.0   1109     9.0        0.0   \n",
       "\n",
       "         new_deaths  \n",
       "1807115         0.0  \n",
       "1807116         0.0  \n",
       "1807117         0.0  \n",
       "1807118         0.0  \n",
       "1807119         0.0  "
      ]
     },
     "execution_count": 3,
     "metadata": {},
     "output_type": "execute_result"
    }
   ],
   "source": [
    "df.tail()"
   ]
  },
  {
   "cell_type": "markdown",
   "metadata": {},
   "source": [
    "### Correlation Network Creator"
   ]
  },
  {
   "cell_type": "code",
   "execution_count": 4,
   "metadata": {},
   "outputs": [],
   "source": [
    "def create_correlation_network(df, start_date, end_date, threshold, pivot_cols = 'county', pivot_vals = 'new_cases'):\n",
    "    \"\"\"Create a network based on correlation values\n",
    "    Parameters:\n",
    "        df (pd.DataFrame): the data\n",
    "        start_date (str): the date to start from as an ISO 8601 date string\n",
    "        end__date (str): the date to end on as an ISO 8601 date string\n",
    "        threshold (int): the minimum correlation value\n",
    "        pivot_cols (str): the column to pivot on (default: county)\n",
    "        pivot_vals (str): the values for the pivot columns (default: new_cases)\n",
    "    Returns:\n",
    "        pd.DataFrame: an edge list as a DataFrame\"\"\"\n",
    "    \n",
    "    df = df[(df['date'] >= start_date) & (df['date'] <= end_date)]  # filter on dates\n",
    "#     print('Start date:', start_date)\n",
    "    \n",
    "    df_corrs = df.pivot(index = 'date', columns = pivot_cols, values = pivot_vals).corr()  # calculate correlations\n",
    "#     print('Correlation matrix shape:', df_corrs.shape)\n",
    "    \n",
    "    # get edge list\n",
    "    links = pd.DataFrame(df_corrs.values, columns = df_corrs.columns.values).set_index(keys = df_corrs.columns.values).stack().reset_index()\n",
    "    links.rename(columns = {'level_0': 'var1', 'level_1': 'var2', 0: 'weight'}, inplace = True)\n",
    "    \n",
    "    return links.loc[(links['weight'] > threshold) & (links['var1'] != links['var2'])]"
   ]
  },
  {
   "cell_type": "markdown",
   "metadata": {},
   "source": [
    "### Network Growth"
   ]
  },
  {
   "cell_type": "code",
   "execution_count": 5,
   "metadata": {},
   "outputs": [],
   "source": [
    "def growth_rate(dates, delta = 5):\n",
    "    \"\"\"Create a data frame of graph growth\n",
    "    Parameters:\n",
    "        dates (pd.DatetimeIndex): the start dates\n",
    "        delta (int): the day delta for end dates (default: 5)\n",
    "    Returns:\n",
    "        pd.DataFrame: a graph growth data frame\"\"\"\n",
    "    \n",
    "    n_nodes, n_edges = [], []\n",
    "    \n",
    "    for d in dates:\n",
    "        corr_g = nx.from_pandas_edgelist(create_correlation_network(df, d, d + pd.Timedelta(delta, unit = 'D'), 0.5), 'var1', 'var2')\n",
    "        \n",
    "        n_nodes.append(len(corr_g))\n",
    "        n_edges.append(len(corr_g.edges))\n",
    "        \n",
    "    return pd.DataFrame([dates, n_nodes, n_edges]).T.rename(columns = {0: 'date', 1: 'nodes', 2: 'edges'})"
   ]
  },
  {
   "cell_type": "code",
   "execution_count": 6,
   "metadata": {},
   "outputs": [
    {
     "data": {
      "text/html": [
       "<div>\n",
       "<style scoped>\n",
       "    .dataframe tbody tr th:only-of-type {\n",
       "        vertical-align: middle;\n",
       "    }\n",
       "\n",
       "    .dataframe tbody tr th {\n",
       "        vertical-align: top;\n",
       "    }\n",
       "\n",
       "    .dataframe thead th {\n",
       "        text-align: right;\n",
       "    }\n",
       "</style>\n",
       "<table border=\"1\" class=\"dataframe\">\n",
       "  <thead>\n",
       "    <tr style=\"text-align: right;\">\n",
       "      <th></th>\n",
       "      <th>date</th>\n",
       "      <th>nodes</th>\n",
       "      <th>edges</th>\n",
       "    </tr>\n",
       "  </thead>\n",
       "  <tbody>\n",
       "    <tr>\n",
       "      <th>0</th>\n",
       "      <td>2020-02-15</td>\n",
       "      <td>0</td>\n",
       "      <td>0</td>\n",
       "    </tr>\n",
       "    <tr>\n",
       "      <th>1</th>\n",
       "      <td>2020-02-20</td>\n",
       "      <td>2</td>\n",
       "      <td>1</td>\n",
       "    </tr>\n",
       "    <tr>\n",
       "      <th>2</th>\n",
       "      <td>2020-02-25</td>\n",
       "      <td>7</td>\n",
       "      <td>7</td>\n",
       "    </tr>\n",
       "    <tr>\n",
       "      <th>3</th>\n",
       "      <td>2020-03-01</td>\n",
       "      <td>22</td>\n",
       "      <td>61</td>\n",
       "    </tr>\n",
       "    <tr>\n",
       "      <th>4</th>\n",
       "      <td>2020-03-06</td>\n",
       "      <td>77</td>\n",
       "      <td>724</td>\n",
       "    </tr>\n",
       "    <tr>\n",
       "      <th>5</th>\n",
       "      <td>2020-03-11</td>\n",
       "      <td>238</td>\n",
       "      <td>7735</td>\n",
       "    </tr>\n",
       "    <tr>\n",
       "      <th>6</th>\n",
       "      <td>2020-03-16</td>\n",
       "      <td>548</td>\n",
       "      <td>48533</td>\n",
       "    </tr>\n",
       "    <tr>\n",
       "      <th>7</th>\n",
       "      <td>2020-03-21</td>\n",
       "      <td>1071</td>\n",
       "      <td>167026</td>\n",
       "    </tr>\n",
       "    <tr>\n",
       "      <th>8</th>\n",
       "      <td>2020-03-26</td>\n",
       "      <td>1570</td>\n",
       "      <td>248189</td>\n",
       "    </tr>\n",
       "    <tr>\n",
       "      <th>9</th>\n",
       "      <td>2020-03-31</td>\n",
       "      <td>1986</td>\n",
       "      <td>366978</td>\n",
       "    </tr>\n",
       "    <tr>\n",
       "      <th>10</th>\n",
       "      <td>2020-04-05</td>\n",
       "      <td>2119</td>\n",
       "      <td>396830</td>\n",
       "    </tr>\n",
       "    <tr>\n",
       "      <th>11</th>\n",
       "      <td>2020-04-10</td>\n",
       "      <td>2145</td>\n",
       "      <td>404449</td>\n",
       "    </tr>\n",
       "    <tr>\n",
       "      <th>12</th>\n",
       "      <td>2020-04-15</td>\n",
       "      <td>2117</td>\n",
       "      <td>387933</td>\n",
       "    </tr>\n",
       "    <tr>\n",
       "      <th>13</th>\n",
       "      <td>2020-04-20</td>\n",
       "      <td>2153</td>\n",
       "      <td>414960</td>\n",
       "    </tr>\n",
       "    <tr>\n",
       "      <th>14</th>\n",
       "      <td>2020-04-25</td>\n",
       "      <td>2174</td>\n",
       "      <td>420862</td>\n",
       "    </tr>\n",
       "    <tr>\n",
       "      <th>15</th>\n",
       "      <td>2020-04-30</td>\n",
       "      <td>2214</td>\n",
       "      <td>420366</td>\n",
       "    </tr>\n",
       "  </tbody>\n",
       "</table>\n",
       "</div>"
      ],
      "text/plain": [
       "         date nodes   edges\n",
       "0  2020-02-15     0       0\n",
       "1  2020-02-20     2       1\n",
       "2  2020-02-25     7       7\n",
       "3  2020-03-01    22      61\n",
       "4  2020-03-06    77     724\n",
       "5  2020-03-11   238    7735\n",
       "6  2020-03-16   548   48533\n",
       "7  2020-03-21  1071  167026\n",
       "8  2020-03-26  1570  248189\n",
       "9  2020-03-31  1986  366978\n",
       "10 2020-04-05  2119  396830\n",
       "11 2020-04-10  2145  404449\n",
       "12 2020-04-15  2117  387933\n",
       "13 2020-04-20  2153  414960\n",
       "14 2020-04-25  2174  420862\n",
       "15 2020-04-30  2214  420366"
      ]
     },
     "execution_count": 6,
     "metadata": {},
     "output_type": "execute_result"
    }
   ],
   "source": [
    "growth_df = growth_rate(pd.date_range(start = '2020-02-15', end = '2020-04-30', freq = '5D'))\n",
    "growth_df"
   ]
  },
  {
   "cell_type": "code",
   "execution_count": 10,
   "metadata": {},
   "outputs": [
    {
     "data": {
      "image/png": "[encoded data removed]",
      "text/plain": [
       "<Figure size 720x576 with 2 Axes>"
      ]
     },
     "metadata": {
      "needs_background": "light"
     },
     "output_type": "display_data"
    }
   ],
   "source": [
    "fig, ax1 = plt.subplots(figsize = (10, 8))\n",
    "fig.suptitle('Correlation Graph Growth')\n",
    "\n",
    "ax1.plot(growth_df['date'], growth_df['nodes'], marker = 'o', color = '#00788c', label = 'Nodes')\n",
    "ax1.set_xlabel('Date')\n",
    "ax1.set_ylabel('Nodes i.e. Counties')\n",
    "plt.legend(loc = 2)\n",
    "\n",
    "ax2 = ax1.twinx()\n",
    "ax2.plot(growth_df['date'], growth_df['edges'], marker = 'o', color = '#552583', label = 'Edges')\n",
    "ax2.set_ylabel('Edges')\n",
    "plt.legend(loc = 4)\n",
    "\n",
    "plt.subplots_adjust(top = 0.93)\n",
    "plt.show()\n",
    "plt.close()"
   ]
  },
  {
   "cell_type": "markdown",
   "metadata": {},
   "source": [
    "### Creating some networks for further analysis"
   ]
  },
  {
   "cell_type": "code",
   "execution_count": 29,
   "metadata": {},
   "outputs": [
    {
     "data": {
      "text/plain": [
       "'Graph with 2067 nodes and 19723 edges'"
      ]
     },
     "execution_count": 29,
     "metadata": {},
     "output_type": "execute_result"
    }
   ],
   "source": [
    "dec20_counties_cases = nx.from_pandas_edgelist(create_correlation_network(df, '2020-12-01', '2020-12-31', 0.75), 'var1', 'var2', 'weight')\n",
    "nx.info(dec20_counties_cases)"
   ]
  },
  {
   "cell_type": "code",
   "execution_count": 32,
   "metadata": {},
   "outputs": [
    {
     "data": {
      "text/plain": [
       "'Graph with 2483 nodes and 10235 edges'"
      ]
     },
     "execution_count": 32,
     "metadata": {},
     "output_type": "execute_result"
    }
   ],
   "source": [
    "may20_counties_cases = nx.from_pandas_edgelist(create_correlation_network(df, '2020-05-01', '2020-05-31', 0.75), 'var1', 'var2', 'weight')\n",
    "nx.info(may20_counties_cases)"
   ]
  },
  {
   "cell_type": "code",
   "execution_count": 34,
   "metadata": {},
   "outputs": [],
   "source": [
    "def degree_distro(G, name) -> None:\n",
    "    \"\"\"Plot the degree distro of a network\n",
    "    Parameters:\n",
    "        G (nx.Graph): a network\n",
    "        name (str): network name\n",
    "    Returns:\n",
    "        None\"\"\"\n",
    "    \n",
    "    degrees = np.array(list(dict(G.degree()).values()))\n",
    "    k_min, k_max = min(degrees), max(degrees)\n",
    "    \n",
    "    bin_edges = np.logspace(np.log10(k_min), np.log10(k_max), num = 20)\n",
    "    density, _ = np.histogram(degrees, bins = bin_edges, density = True)\n",
    "    \n",
    "    log_be = np.log10(bin_edges)\n",
    "    x = 10 ** ((log_be[: -1] + log_be[1 :]) / 2)\n",
    "    \n",
    "    fig, ax = plt.subplots(figsize = (10, 8))\n",
    "    plt.loglog(x, density, marker = 'o', ls = 'none', color = '#552583')\n",
    "    plt.title('{} Degree Distribution'.format(name))\n",
    "    plt.xlabel('Degree k')\n",
    "    plt.ylabel('Density p(k)')\n",
    "    ax.spines['right'].set_visible(False)\n",
    "    ax.spines['top'].set_visible(False)\n",
    "    plt.show()\n",
    "    plt.close()"
   ]
  },
  {
   "cell_type": "code",
   "execution_count": 35,
   "metadata": {},
   "outputs": [
    {
     "data": {
      "image/png": "[encoded data removed]",
      "text/plain": [
       "<Figure size 720x576 with 1 Axes>"
      ]
     },
     "metadata": {
      "needs_background": "light"
     },
     "output_type": "display_data"
    }
   ],
   "source": [
    "degree_distro(dec20_counties_cases, \"Dec'20 Counties - Cases Network\")"
   ]
  },
  {
   "cell_type": "code",
   "execution_count": 36,
   "metadata": {},
   "outputs": [
    {
     "data": {
      "image/png": "[encoded data removed]",
      "text/plain": [
       "<Figure size 720x576 with 1 Axes>"
      ]
     },
     "metadata": {
      "needs_background": "light"
     },
     "output_type": "display_data"
    }
   ],
   "source": [
    "degree_distro(may20_counties_cases, \"May'20 Counties - Cases Network\")"
   ]
  },
  {
   "cell_type": "code",
   "execution_count": 38,
   "metadata": {},
   "outputs": [],
   "source": [
    "def fit_powerlaw(G) -> float:\n",
    "    \"\"\"Fit a power law and calculate the degree exponent of a network\n",
    "    Parameters:\n",
    "        G (nx.Graph): the network\n",
    "    Returns:\n",
    "        float: the degree exponent gamma\"\"\"\n",
    "    \n",
    "    degrees = np.array(list(dict(G.degree()).values()))\n",
    "    \n",
    "    res = powerlaw.Fit(degrees, discrete = True)\n",
    "    print('Gamma:', res.power_law.alpha)\n",
    "    \n",
    "    return res.power_law.alpha"
   ]
  },
  {
   "cell_type": "code",
   "execution_count": 39,
   "metadata": {},
   "outputs": [
    {
     "name": "stdout",
     "output_type": "stream",
     "text": [
      "Calculating best minimal value for power law fit\n",
      "Gamma: 2.7376728595180535\n"
     ]
    }
   ],
   "source": [
    "fit_powerlaw(may20_counties_cases)"
   ]
  },
  {
   "cell_type": "code",
   "execution_count": 40,
   "metadata": {},
   "outputs": [
    {
     "name": "stdout",
     "output_type": "stream",
     "text": [
      "Calculating best minimal value for power law fit\n",
      "xmin progress: 00%\r",
      "xmin progress: 00%\r",
      "xmin progress: 01%\r",
      "xmin progress: 02%\r",
      "xmin progress: 03%\r",
      "xmin progress: 04%\r",
      "xmin progress: 05%\r",
      "xmin progress: 05%\r",
      "xmin progress: 06%\r",
      "xmin progress: 07%\r",
      "xmin progress: 08%\r",
      "xmin progress: 09%\r",
      "xmin progress: 10%\r",
      "xmin progress: 11%\r",
      "xmin progress: 11%\r",
      "xmin progress: 12%\r",
      "xmin progress: 13%\r",
      "xmin progress: 14%\r",
      "xmin progress: 15%\r",
      "xmin progress: 16%\r",
      "xmin progress: 17%\r",
      "xmin progress: 17%\r",
      "xmin progress: 18%\r",
      "xmin progress: 19%\r",
      "xmin progress: 20%\r",
      "xmin progress: 21%\r",
      "xmin progress: 22%\r",
      "xmin progress: 23%\r",
      "xmin progress: 23%\r",
      "xmin progress: 24%\r",
      "xmin progress: 25%\r",
      "xmin progress: 26%\r",
      "xmin progress: 27%\r",
      "xmin progress: 28%\r",
      "xmin progress: 29%\r",
      "xmin progress: 29%\r",
      "xmin progress: 30%\r",
      "xmin progress: 31%\r",
      "xmin progress: 32%\r",
      "xmin progress: 33%\r",
      "xmin progress: 34%\r",
      "xmin progress: 35%\r",
      "xmin progress: 35%\r",
      "xmin progress: 36%\r",
      "xmin progress: 37%\r",
      "xmin progress: 38%\r",
      "xmin progress: 39%\r",
      "xmin progress: 40%\r",
      "xmin progress: 41%\r",
      "xmin progress: 41%\r",
      "xmin progress: 42%\r",
      "xmin progress: 43%\r",
      "xmin progress: 44%\r",
      "xmin progress: 45%\r",
      "xmin progress: 46%\r",
      "xmin progress: 47%\r",
      "xmin progress: 47%\r",
      "xmin progress: 48%\r",
      "xmin progress: 49%\r",
      "xmin progress: 50%\r",
      "xmin progress: 51%\r",
      "xmin progress: 52%\r",
      "xmin progress: 52%\r",
      "xmin progress: 53%\r",
      "xmin progress: 54%\r",
      "xmin progress: 55%\r",
      "xmin progress: 56%\r",
      "xmin progress: 57%\r",
      "xmin progress: 58%\r",
      "xmin progress: 58%\r",
      "xmin progress: 59%\r",
      "xmin progress: 60%\r",
      "xmin progress: 61%\r",
      "xmin progress: 62%\r",
      "xmin progress: 63%\r",
      "xmin progress: 64%\r",
      "xmin progress: 64%\r",
      "xmin progress: 65%\r",
      "xmin progress: 66%\r",
      "xmin progress: 67%\r",
      "xmin progress: 68%\r",
      "xmin progress: 69%\r",
      "xmin progress: 70%\r",
      "xmin progress: 70%\r",
      "xmin progress: 71%\r",
      "xmin progress: 72%\r",
      "xmin progress: 73%\r",
      "xmin progress: 74%\r",
      "xmin progress: 75%\r",
      "xmin progress: 76%\r",
      "xmin progress: 76%\r",
      "xmin progress: 77%\r",
      "xmin progress: 78%\r",
      "xmin progress: 79%\r",
      "xmin progress: 80%\r",
      "xmin progress: 81%\r",
      "xmin progress: 82%\r",
      "xmin progress: 82%\r",
      "xmin progress: 83%\r",
      "xmin progress: 84%\r",
      "xmin progress: 85%\r",
      "xmin progress: 86%\r",
      "xmin progress: 87%\r",
      "xmin progress: 88%\r",
      "xmin progress: 88%\r",
      "xmin progress: 89%\r",
      "xmin progress: 90%\r",
      "xmin progress: 91%\r",
      "xmin progress: 92%\r",
      "xmin progress: 93%\r",
      "xmin progress: 94%\r",
      "xmin progress: 94%\r",
      "xmin progress: 95%\r",
      "xmin progress: 96%\r",
      "xmin progress: 97%\r",
      "xmin progress: 98%\r",
      "xmin progress: 99%\r",
      "Gamma: 1.5274971568194675\n"
     ]
    }
   ],
   "source": [
    "fit_powerlaw(dec20_counties_cases)"
   ]
  },
  {
   "cell_type": "code",
   "execution_count": 41,
   "metadata": {},
   "outputs": [],
   "source": [
    "nx.write_gml(may20_counties_cases, './Graphs/may20_counties_cases_corr.gml')"
   ]
  },
  {
   "cell_type": "code",
   "execution_count": 19,
   "metadata": {},
   "outputs": [],
   "source": [
    "# feb_counties_cases = nx.from_pandas_edgelist(create_correlation_network(df, '2020-02-01', '2020-02-29', 0.5), 'var1', 'var2', 'weight')\n",
    "# nx.info(feb_counties_cases)\n",
    "\n",
    "# feb_counties_cases.edges(data = True)\n",
    "\n",
    "# april_counties_cases = nx.from_pandas_edgelist(create_correlation_network(df, '2020-04-01', '2020-04-30', 0.5), 'var1', 'var2')\n",
    "# nx.info(april_counties_cases)\n",
    "\n",
    "# march_1_counties_cases = nx.from_pandas_edgelist(create_correlation_network(df, '2020-03-01', '2020-03-10', 0.5), 'var1', 'var2')\n",
    "# march_11_counties_cases = nx.from_pandas_edgelist(create_correlation_network(df, '2020-03-11', '2020-03-20', 0.5), 'var1', 'var2')\n",
    "# march_21_counties_cases = nx.from_pandas_edgelist(create_correlation_network(df, '2020-03-21', '2020-03-31', 0.5), 'var1', 'var2')\n",
    "\n",
    "# nx.info(march_1_counties_cases), nx.info(march_11_counties_cases), nx.info(march_21_counties_cases) "
   ]
  }
 ],
 "metadata": {
  "kernelspec": {
   "display_name": "Python 3",
   "language": "python",
   "name": "python3"
  },
  "language_info": {
   "codemirror_mode": {
    "name": "ipython",
    "version": 3
   },
   "file_extension": ".py",
   "mimetype": "text/x-python",
   "name": "python",
   "nbconvert_exporter": "python",
   "pygments_lexer": "ipython3",
   "version": "3.8.2"
  }
 },
 "nbformat": 4,
 "nbformat_minor": 4
}
