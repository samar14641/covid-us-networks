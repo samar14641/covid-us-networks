{
 "cells": [
  {
   "cell_type": "markdown",
   "metadata": {},
   "source": [
    "#### Import modules"
   ]
  },
  {
   "cell_type": "code",
   "execution_count": 1,
   "metadata": {},
   "outputs": [],
   "source": [
    "import json\n",
    "import matplotlib.pyplot as plt\n",
    "import networkx as nx\n",
    "import os\n",
    "import pandas as pd\n",
    "import pickle"
   ]
  },
  {
   "cell_type": "markdown",
   "metadata": {},
   "source": [
    "### States\n",
    "\n",
    "#### Read states data file"
   ]
  },
  {
   "cell_type": "code",
   "execution_count": 2,
   "metadata": {},
   "outputs": [
    {
     "data": {
      "text/plain": [
       "51"
      ]
     },
     "execution_count": 2,
     "metadata": {},
     "output_type": "execute_result"
    }
   ],
   "source": [
    "states_adj = {}\n",
    "\n",
    "with open(os.getcwd() + '/Data/usa-state-data.json', 'r') as state_json:\n",
    "    states_adj = json.load(state_json)\n",
    "    \n",
    "len(states_adj)"
   ]
  },
  {
   "cell_type": "code",
   "execution_count": 3,
   "metadata": {},
   "outputs": [],
   "source": [
    "# states_adj"
   ]
  },
  {
   "cell_type": "markdown",
   "metadata": {},
   "source": [
    "#### Create states code and name maps"
   ]
  },
  {
   "cell_type": "code",
   "execution_count": 4,
   "metadata": {},
   "outputs": [
    {
     "data": {
      "text/plain": [
       "('Massachusetts', 'MA')"
      ]
     },
     "execution_count": 4,
     "metadata": {},
     "output_type": "execute_result"
    }
   ],
   "source": [
    "code_to_name, name_to_code = {}, {}\n",
    "\n",
    "for code in states_adj:\n",
    "    name = states_adj[code]['name']\n",
    "    code_to_name[code] = name\n",
    "    name_to_code[name] = code\n",
    "    \n",
    "code_to_name['MA'], name_to_code['Massachusetts']"
   ]
  },
  {
   "cell_type": "code",
   "execution_count": 5,
   "metadata": {},
   "outputs": [],
   "source": [
    "def write_pickle(file, obj) -> None:\n",
    "    \"\"\"Write an object to a pickle file\n",
    "    Parameters:\n",
    "        file (str): file path\n",
    "        obj (Any): object to write\n",
    "    Returns:\n",
    "        None\"\"\"\n",
    "    \n",
    "    with open(file, 'wb') as pckl:\n",
    "        pickle.dump(obj, pckl, pickle.HIGHEST_PROTOCOL)\n",
    "        \n",
    "    pckl.close()"
   ]
  },
  {
   "cell_type": "code",
   "execution_count": 6,
   "metadata": {},
   "outputs": [],
   "source": [
    "write_pickle(os.getcwd() + '/Data/code_to_name.pickle', code_to_name)"
   ]
  },
  {
   "cell_type": "code",
   "execution_count": 7,
   "metadata": {},
   "outputs": [],
   "source": [
    "write_pickle(os.getcwd() + '/Data/name_to_code.pickle', name_to_code)"
   ]
  },
  {
   "cell_type": "markdown",
   "metadata": {},
   "source": [
    "#### Create network of states"
   ]
  },
  {
   "cell_type": "code",
   "execution_count": 8,
   "metadata": {},
   "outputs": [],
   "source": [
    "ignore_states = ()\n",
    "\n",
    "state_cons = []\n",
    "\n",
    "for s in states_adj:\n",
    "    if s not in ignore_states:\n",
    "        for n in states_adj[s]['adjacent']:  # lists for AK and HI are empty, hence this loop is not run for them\n",
    "            state_cons.append([s, n, states_adj[s]['region'], states_adj[n]['region']])"
   ]
  },
  {
   "cell_type": "code",
   "execution_count": 9,
   "metadata": {},
   "outputs": [],
   "source": [
    "# state_cons"
   ]
  },
  {
   "cell_type": "code",
   "execution_count": 10,
   "metadata": {},
   "outputs": [
    {
     "data": {
      "text/html": [
       "<div>\n",
       "<style scoped>\n",
       "    .dataframe tbody tr th:only-of-type {\n",
       "        vertical-align: middle;\n",
       "    }\n",
       "\n",
       "    .dataframe tbody tr th {\n",
       "        vertical-align: top;\n",
       "    }\n",
       "\n",
       "    .dataframe thead th {\n",
       "        text-align: right;\n",
       "    }\n",
       "</style>\n",
       "<table border=\"1\" class=\"dataframe\">\n",
       "  <thead>\n",
       "    <tr style=\"text-align: right;\">\n",
       "      <th></th>\n",
       "      <th>state1</th>\n",
       "      <th>state2</th>\n",
       "      <th>state1_region</th>\n",
       "      <th>state2_region</th>\n",
       "      <th>same_region</th>\n",
       "    </tr>\n",
       "  </thead>\n",
       "  <tbody>\n",
       "    <tr>\n",
       "      <th>0</th>\n",
       "      <td>AL</td>\n",
       "      <td>FL</td>\n",
       "      <td>South</td>\n",
       "      <td>South</td>\n",
       "      <td>True</td>\n",
       "    </tr>\n",
       "    <tr>\n",
       "      <th>1</th>\n",
       "      <td>AL</td>\n",
       "      <td>GA</td>\n",
       "      <td>South</td>\n",
       "      <td>South</td>\n",
       "      <td>True</td>\n",
       "    </tr>\n",
       "    <tr>\n",
       "      <th>2</th>\n",
       "      <td>AL</td>\n",
       "      <td>TN</td>\n",
       "      <td>South</td>\n",
       "      <td>South</td>\n",
       "      <td>True</td>\n",
       "    </tr>\n",
       "    <tr>\n",
       "      <th>3</th>\n",
       "      <td>AL</td>\n",
       "      <td>MS</td>\n",
       "      <td>South</td>\n",
       "      <td>South</td>\n",
       "      <td>True</td>\n",
       "    </tr>\n",
       "    <tr>\n",
       "      <th>4</th>\n",
       "      <td>AZ</td>\n",
       "      <td>NM</td>\n",
       "      <td>West</td>\n",
       "      <td>West</td>\n",
       "      <td>True</td>\n",
       "    </tr>\n",
       "  </tbody>\n",
       "</table>\n",
       "</div>"
      ],
      "text/plain": [
       "  state1 state2 state1_region state2_region  same_region\n",
       "0     AL     FL         South         South         True\n",
       "1     AL     GA         South         South         True\n",
       "2     AL     TN         South         South         True\n",
       "3     AL     MS         South         South         True\n",
       "4     AZ     NM          West          West         True"
      ]
     },
     "execution_count": 10,
     "metadata": {},
     "output_type": "execute_result"
    }
   ],
   "source": [
    "states_edge_pairs = pd.DataFrame(state_cons, columns = ['state1', 'state2', 'state1_region', 'state2_region'])\n",
    "states_edge_pairs['same_region'] = states_edge_pairs['state1_region'] == states_edge_pairs['state2_region'] \n",
    "states_edge_pairs.head()"
   ]
  },
  {
   "cell_type": "code",
   "execution_count": 11,
   "metadata": {},
   "outputs": [
    {
     "data": {
      "text/html": [
       "<div>\n",
       "<style scoped>\n",
       "    .dataframe tbody tr th:only-of-type {\n",
       "        vertical-align: middle;\n",
       "    }\n",
       "\n",
       "    .dataframe tbody tr th {\n",
       "        vertical-align: top;\n",
       "    }\n",
       "\n",
       "    .dataframe thead th {\n",
       "        text-align: right;\n",
       "    }\n",
       "</style>\n",
       "<table border=\"1\" class=\"dataframe\">\n",
       "  <thead>\n",
       "    <tr style=\"text-align: right;\">\n",
       "      <th></th>\n",
       "      <th>state1_region</th>\n",
       "    </tr>\n",
       "    <tr>\n",
       "      <th>state1</th>\n",
       "      <th></th>\n",
       "    </tr>\n",
       "  </thead>\n",
       "  <tbody>\n",
       "    <tr>\n",
       "      <th>AL</th>\n",
       "      <td>South</td>\n",
       "    </tr>\n",
       "    <tr>\n",
       "      <th>AZ</th>\n",
       "      <td>West</td>\n",
       "    </tr>\n",
       "    <tr>\n",
       "      <th>AR</th>\n",
       "      <td>South</td>\n",
       "    </tr>\n",
       "    <tr>\n",
       "      <th>CA</th>\n",
       "      <td>West</td>\n",
       "    </tr>\n",
       "    <tr>\n",
       "      <th>CO</th>\n",
       "      <td>West</td>\n",
       "    </tr>\n",
       "  </tbody>\n",
       "</table>\n",
       "</div>"
      ],
      "text/plain": [
       "       state1_region\n",
       "state1              \n",
       "AL             South\n",
       "AZ              West\n",
       "AR             South\n",
       "CA              West\n",
       "CO              West"
      ]
     },
     "execution_count": 11,
     "metadata": {},
     "output_type": "execute_result"
    }
   ],
   "source": [
    "states_regions = states_edge_pairs[['state1', 'state1_region']].drop_duplicates().set_index('state1')\n",
    "states_regions.head()"
   ]
  },
  {
   "cell_type": "code",
   "execution_count": 12,
   "metadata": {},
   "outputs": [],
   "source": [
    "states_graph = nx.from_pandas_edgelist(states_edge_pairs, 'state1', 'state2', ['same_region'])\n",
    "nx.set_node_attributes(states_graph, values = states_regions['state1_region'].to_dict(), name = 'Region')"
   ]
  },
  {
   "cell_type": "code",
   "execution_count": 13,
   "metadata": {},
   "outputs": [
    {
     "data": {
      "text/plain": [
       "'Northeast'"
      ]
     },
     "execution_count": 13,
     "metadata": {},
     "output_type": "execute_result"
    }
   ],
   "source": [
    "states_graph.nodes['MA']['Region']"
   ]
  },
  {
   "cell_type": "code",
   "execution_count": 14,
   "metadata": {},
   "outputs": [
    {
     "data": {
      "text/plain": [
       "AtlasView({'CT': {'same_region': True}, 'NH': {'same_region': True}, 'VT': {'same_region': True}, 'NY': {'same_region': True}, 'RI': {'same_region': True}})"
      ]
     },
     "execution_count": 14,
     "metadata": {},
     "output_type": "execute_result"
    }
   ],
   "source": [
    "states_graph['MA']"
   ]
  },
  {
   "cell_type": "code",
   "execution_count": 15,
   "metadata": {},
   "outputs": [
    {
     "data": {
      "text/plain": [
       "(49, 107)"
      ]
     },
     "execution_count": 15,
     "metadata": {},
     "output_type": "execute_result"
    }
   ],
   "source": [
    "states_graph.number_of_nodes(), states_graph.number_of_edges()"
   ]
  },
  {
   "cell_type": "markdown",
   "metadata": {},
   "source": [
    "#### Write GML"
   ]
  },
  {
   "cell_type": "code",
   "execution_count": 16,
   "metadata": {},
   "outputs": [],
   "source": [
    "nx.write_gml(states_graph, os.getcwd() + '/Graphs/states_graph.gml')"
   ]
  },
  {
   "cell_type": "code",
   "execution_count": 17,
   "metadata": {},
   "outputs": [
    {
     "data": {
      "image/png": "[encoded data removed]",
      "text/plain": [
       "<Figure size 648x648 with 1 Axes>"
      ]
     },
     "metadata": {},
     "output_type": "display_data"
    }
   ],
   "source": [
    "fig = plt.figure(figsize = (9, 9))\n",
    "nx.draw_planar(states_graph, node_color = '#add8e6', with_labels = True)\n",
    "plt.title('US States Network')\n",
    "plt.show()\n",
    "plt.close()"
   ]
  },
  {
   "cell_type": "markdown",
   "metadata": {},
   "source": [
    "### Counties\n",
    "\n",
    "#### Read counties data file"
   ]
  },
  {
   "cell_type": "code",
   "execution_count": 18,
   "metadata": {},
   "outputs": [
    {
     "data": {
      "text/plain": [
       "(22200, 4)"
      ]
     },
     "execution_count": 18,
     "metadata": {},
     "output_type": "execute_result"
    }
   ],
   "source": [
    "counties = pd.read_csv(os.getcwd() + '/Data/county_adjacency.csv')  # file missing two counties in countyname column: 'Otter Tail County, MN', 'Watonwan County, MN'\n",
    "counties.shape"
   ]
  },
  {
   "cell_type": "code",
   "execution_count": 19,
   "metadata": {},
   "outputs": [
    {
     "data": {
      "text/html": [
       "<div>\n",
       "<style scoped>\n",
       "    .dataframe tbody tr th:only-of-type {\n",
       "        vertical-align: middle;\n",
       "    }\n",
       "\n",
       "    .dataframe tbody tr th {\n",
       "        vertical-align: top;\n",
       "    }\n",
       "\n",
       "    .dataframe thead th {\n",
       "        text-align: right;\n",
       "    }\n",
       "</style>\n",
       "<table border=\"1\" class=\"dataframe\">\n",
       "  <thead>\n",
       "    <tr style=\"text-align: right;\">\n",
       "      <th></th>\n",
       "      <th>countyname</th>\n",
       "      <th>fipscounty</th>\n",
       "      <th>neighborname</th>\n",
       "      <th>fipsneighbor</th>\n",
       "    </tr>\n",
       "  </thead>\n",
       "  <tbody>\n",
       "    <tr>\n",
       "      <th>0</th>\n",
       "      <td>Autauga County, AL</td>\n",
       "      <td>1001</td>\n",
       "      <td>Autauga County, AL</td>\n",
       "      <td>1001</td>\n",
       "    </tr>\n",
       "    <tr>\n",
       "      <th>1</th>\n",
       "      <td>Autauga County, AL</td>\n",
       "      <td>1001</td>\n",
       "      <td>Chilton County, AL</td>\n",
       "      <td>1021</td>\n",
       "    </tr>\n",
       "    <tr>\n",
       "      <th>2</th>\n",
       "      <td>Autauga County, AL</td>\n",
       "      <td>1001</td>\n",
       "      <td>Dallas County, AL</td>\n",
       "      <td>1047</td>\n",
       "    </tr>\n",
       "    <tr>\n",
       "      <th>3</th>\n",
       "      <td>Autauga County, AL</td>\n",
       "      <td>1001</td>\n",
       "      <td>Elmore County, AL</td>\n",
       "      <td>1051</td>\n",
       "    </tr>\n",
       "    <tr>\n",
       "      <th>4</th>\n",
       "      <td>Autauga County, AL</td>\n",
       "      <td>1001</td>\n",
       "      <td>Lowndes County, AL</td>\n",
       "      <td>1085</td>\n",
       "    </tr>\n",
       "  </tbody>\n",
       "</table>\n",
       "</div>"
      ],
      "text/plain": [
       "           countyname  fipscounty        neighborname  fipsneighbor\n",
       "0  Autauga County, AL        1001  Autauga County, AL          1001\n",
       "1  Autauga County, AL        1001  Chilton County, AL          1021\n",
       "2  Autauga County, AL        1001   Dallas County, AL          1047\n",
       "3  Autauga County, AL        1001   Elmore County, AL          1051\n",
       "4  Autauga County, AL        1001  Lowndes County, AL          1085"
      ]
     },
     "execution_count": 19,
     "metadata": {},
     "output_type": "execute_result"
    }
   ],
   "source": [
    "counties.head()"
   ]
  },
  {
   "cell_type": "markdown",
   "metadata": {},
   "source": [
    "#### Preprocessing"
   ]
  },
  {
   "cell_type": "markdown",
   "metadata": {},
   "source": [
    "Row 9441 has incorrect FIPS code (found when looking for neighbours of the missing Otter Tail county)"
   ]
  },
  {
   "cell_type": "code",
   "execution_count": 20,
   "metadata": {},
   "outputs": [
    {
     "data": {
      "text/html": [
       "<div>\n",
       "<style scoped>\n",
       "    .dataframe tbody tr th:only-of-type {\n",
       "        vertical-align: middle;\n",
       "    }\n",
       "\n",
       "    .dataframe tbody tr th {\n",
       "        vertical-align: top;\n",
       "    }\n",
       "\n",
       "    .dataframe thead th {\n",
       "        text-align: right;\n",
       "    }\n",
       "</style>\n",
       "<table border=\"1\" class=\"dataframe\">\n",
       "  <thead>\n",
       "    <tr style=\"text-align: right;\">\n",
       "      <th></th>\n",
       "      <th>countyname</th>\n",
       "      <th>fipscounty</th>\n",
       "      <th>neighborname</th>\n",
       "      <th>fipsneighbor</th>\n",
       "    </tr>\n",
       "  </thead>\n",
       "  <tbody>\n",
       "    <tr>\n",
       "      <th>9084</th>\n",
       "      <td>Becker County, MN</td>\n",
       "      <td>27005</td>\n",
       "      <td>Otter Tail County, MN</td>\n",
       "      <td>27111</td>\n",
       "    </tr>\n",
       "    <tr>\n",
       "      <th>9160</th>\n",
       "      <td>Clay County, MN</td>\n",
       "      <td>27027</td>\n",
       "      <td>Otter Tail County, MN</td>\n",
       "      <td>27111</td>\n",
       "    </tr>\n",
       "    <tr>\n",
       "      <th>9204</th>\n",
       "      <td>Douglas County, MN</td>\n",
       "      <td>27041</td>\n",
       "      <td>Otter Tail County, MN</td>\n",
       "      <td>27111</td>\n",
       "    </tr>\n",
       "    <tr>\n",
       "      <th>9240</th>\n",
       "      <td>Grant County, MN</td>\n",
       "      <td>27051</td>\n",
       "      <td>Otter Tail County, MN</td>\n",
       "      <td>27111</td>\n",
       "    </tr>\n",
       "    <tr>\n",
       "      <th>9441</th>\n",
       "      <td>Todd County, MN</td>\n",
       "      <td>27111</td>\n",
       "      <td>Otter Tail County, MN</td>\n",
       "      <td>27111</td>\n",
       "    </tr>\n",
       "    <tr>\n",
       "      <th>9590</th>\n",
       "      <td>Todd County, MN</td>\n",
       "      <td>27153</td>\n",
       "      <td>Otter Tail County, MN</td>\n",
       "      <td>27111</td>\n",
       "    </tr>\n",
       "    <tr>\n",
       "      <th>9610</th>\n",
       "      <td>Wadena County, MN</td>\n",
       "      <td>27159</td>\n",
       "      <td>Otter Tail County, MN</td>\n",
       "      <td>27111</td>\n",
       "    </tr>\n",
       "    <tr>\n",
       "      <th>9636</th>\n",
       "      <td>Wilkin County, MN</td>\n",
       "      <td>27167</td>\n",
       "      <td>Otter Tail County, MN</td>\n",
       "      <td>27111</td>\n",
       "    </tr>\n",
       "  </tbody>\n",
       "</table>\n",
       "</div>"
      ],
      "text/plain": [
       "              countyname  fipscounty           neighborname  fipsneighbor\n",
       "9084   Becker County, MN       27005  Otter Tail County, MN         27111\n",
       "9160     Clay County, MN       27027  Otter Tail County, MN         27111\n",
       "9204  Douglas County, MN       27041  Otter Tail County, MN         27111\n",
       "9240    Grant County, MN       27051  Otter Tail County, MN         27111\n",
       "9441     Todd County, MN       27111  Otter Tail County, MN         27111\n",
       "9590     Todd County, MN       27153  Otter Tail County, MN         27111\n",
       "9610   Wadena County, MN       27159  Otter Tail County, MN         27111\n",
       "9636   Wilkin County, MN       27167  Otter Tail County, MN         27111"
      ]
     },
     "execution_count": 20,
     "metadata": {},
     "output_type": "execute_result"
    }
   ],
   "source": [
    "counties[counties['neighborname'] == 'Otter Tail County, MN']"
   ]
  },
  {
   "cell_type": "code",
   "execution_count": 21,
   "metadata": {},
   "outputs": [
    {
     "data": {
      "text/html": [
       "<div>\n",
       "<style scoped>\n",
       "    .dataframe tbody tr th:only-of-type {\n",
       "        vertical-align: middle;\n",
       "    }\n",
       "\n",
       "    .dataframe tbody tr th {\n",
       "        vertical-align: top;\n",
       "    }\n",
       "\n",
       "    .dataframe thead th {\n",
       "        text-align: right;\n",
       "    }\n",
       "</style>\n",
       "<table border=\"1\" class=\"dataframe\">\n",
       "  <thead>\n",
       "    <tr style=\"text-align: right;\">\n",
       "      <th></th>\n",
       "      <th>countyname</th>\n",
       "      <th>fipscounty</th>\n",
       "      <th>neighborname</th>\n",
       "      <th>fipsneighbor</th>\n",
       "    </tr>\n",
       "  </thead>\n",
       "  <tbody>\n",
       "    <tr>\n",
       "      <th>9084</th>\n",
       "      <td>Becker County, MN</td>\n",
       "      <td>27005</td>\n",
       "      <td>Otter Tail County, MN</td>\n",
       "      <td>27111</td>\n",
       "    </tr>\n",
       "    <tr>\n",
       "      <th>9160</th>\n",
       "      <td>Clay County, MN</td>\n",
       "      <td>27027</td>\n",
       "      <td>Otter Tail County, MN</td>\n",
       "      <td>27111</td>\n",
       "    </tr>\n",
       "    <tr>\n",
       "      <th>9204</th>\n",
       "      <td>Douglas County, MN</td>\n",
       "      <td>27041</td>\n",
       "      <td>Otter Tail County, MN</td>\n",
       "      <td>27111</td>\n",
       "    </tr>\n",
       "    <tr>\n",
       "      <th>9240</th>\n",
       "      <td>Grant County, MN</td>\n",
       "      <td>27051</td>\n",
       "      <td>Otter Tail County, MN</td>\n",
       "      <td>27111</td>\n",
       "    </tr>\n",
       "    <tr>\n",
       "      <th>9441</th>\n",
       "      <td>Todd County, MN</td>\n",
       "      <td>27153</td>\n",
       "      <td>Otter Tail County, MN</td>\n",
       "      <td>27111</td>\n",
       "    </tr>\n",
       "    <tr>\n",
       "      <th>9590</th>\n",
       "      <td>Todd County, MN</td>\n",
       "      <td>27153</td>\n",
       "      <td>Otter Tail County, MN</td>\n",
       "      <td>27111</td>\n",
       "    </tr>\n",
       "    <tr>\n",
       "      <th>9610</th>\n",
       "      <td>Wadena County, MN</td>\n",
       "      <td>27159</td>\n",
       "      <td>Otter Tail County, MN</td>\n",
       "      <td>27111</td>\n",
       "    </tr>\n",
       "    <tr>\n",
       "      <th>9636</th>\n",
       "      <td>Wilkin County, MN</td>\n",
       "      <td>27167</td>\n",
       "      <td>Otter Tail County, MN</td>\n",
       "      <td>27111</td>\n",
       "    </tr>\n",
       "  </tbody>\n",
       "</table>\n",
       "</div>"
      ],
      "text/plain": [
       "              countyname  fipscounty           neighborname  fipsneighbor\n",
       "9084   Becker County, MN       27005  Otter Tail County, MN         27111\n",
       "9160     Clay County, MN       27027  Otter Tail County, MN         27111\n",
       "9204  Douglas County, MN       27041  Otter Tail County, MN         27111\n",
       "9240    Grant County, MN       27051  Otter Tail County, MN         27111\n",
       "9441     Todd County, MN       27153  Otter Tail County, MN         27111\n",
       "9590     Todd County, MN       27153  Otter Tail County, MN         27111\n",
       "9610   Wadena County, MN       27159  Otter Tail County, MN         27111\n",
       "9636   Wilkin County, MN       27167  Otter Tail County, MN         27111"
      ]
     },
     "execution_count": 21,
     "metadata": {},
     "output_type": "execute_result"
    }
   ],
   "source": [
    "counties.loc[9441, 'fipscounty'] = 27153\n",
    "counties[counties['neighborname'] == 'Otter Tail County, MN']"
   ]
  },
  {
   "cell_type": "markdown",
   "metadata": {},
   "source": [
    "Since the graph will be made using nx.Graph, repeated edges do not matter"
   ]
  },
  {
   "cell_type": "code",
   "execution_count": 22,
   "metadata": {},
   "outputs": [
    {
     "data": {
      "text/html": [
       "<div>\n",
       "<style scoped>\n",
       "    .dataframe tbody tr th:only-of-type {\n",
       "        vertical-align: middle;\n",
       "    }\n",
       "\n",
       "    .dataframe tbody tr th {\n",
       "        vertical-align: top;\n",
       "    }\n",
       "\n",
       "    .dataframe thead th {\n",
       "        text-align: right;\n",
       "    }\n",
       "</style>\n",
       "<table border=\"1\" class=\"dataframe\">\n",
       "  <thead>\n",
       "    <tr style=\"text-align: right;\">\n",
       "      <th></th>\n",
       "      <th>countyname</th>\n",
       "      <th>fipscounty</th>\n",
       "      <th>neighborname</th>\n",
       "      <th>fipsneighbor</th>\n",
       "    </tr>\n",
       "  </thead>\n",
       "  <tbody>\n",
       "    <tr>\n",
       "      <th>0</th>\n",
       "      <td>Otter Tail County, MN</td>\n",
       "      <td>27111</td>\n",
       "      <td>Becker County, MN</td>\n",
       "      <td>27005</td>\n",
       "    </tr>\n",
       "    <tr>\n",
       "      <th>1</th>\n",
       "      <td>Otter Tail County, MN</td>\n",
       "      <td>27111</td>\n",
       "      <td>Clay County, MN</td>\n",
       "      <td>27027</td>\n",
       "    </tr>\n",
       "    <tr>\n",
       "      <th>2</th>\n",
       "      <td>Otter Tail County, MN</td>\n",
       "      <td>27111</td>\n",
       "      <td>Douglas County, MN</td>\n",
       "      <td>27041</td>\n",
       "    </tr>\n",
       "    <tr>\n",
       "      <th>3</th>\n",
       "      <td>Otter Tail County, MN</td>\n",
       "      <td>27111</td>\n",
       "      <td>Grant County, MN</td>\n",
       "      <td>27051</td>\n",
       "    </tr>\n",
       "    <tr>\n",
       "      <th>4</th>\n",
       "      <td>Otter Tail County, MN</td>\n",
       "      <td>27111</td>\n",
       "      <td>Todd County, MN</td>\n",
       "      <td>27153</td>\n",
       "    </tr>\n",
       "    <tr>\n",
       "      <th>5</th>\n",
       "      <td>Otter Tail County, MN</td>\n",
       "      <td>27111</td>\n",
       "      <td>Todd County, MN</td>\n",
       "      <td>27153</td>\n",
       "    </tr>\n",
       "    <tr>\n",
       "      <th>6</th>\n",
       "      <td>Otter Tail County, MN</td>\n",
       "      <td>27111</td>\n",
       "      <td>Wadena County, MN</td>\n",
       "      <td>27159</td>\n",
       "    </tr>\n",
       "    <tr>\n",
       "      <th>7</th>\n",
       "      <td>Otter Tail County, MN</td>\n",
       "      <td>27111</td>\n",
       "      <td>Wilkin County, MN</td>\n",
       "      <td>27167</td>\n",
       "    </tr>\n",
       "  </tbody>\n",
       "</table>\n",
       "</div>"
      ],
      "text/plain": [
       "              countyname  fipscounty        neighborname  fipsneighbor\n",
       "0  Otter Tail County, MN       27111   Becker County, MN         27005\n",
       "1  Otter Tail County, MN       27111     Clay County, MN         27027\n",
       "2  Otter Tail County, MN       27111  Douglas County, MN         27041\n",
       "3  Otter Tail County, MN       27111    Grant County, MN         27051\n",
       "4  Otter Tail County, MN       27111     Todd County, MN         27153\n",
       "5  Otter Tail County, MN       27111     Todd County, MN         27153\n",
       "6  Otter Tail County, MN       27111   Wadena County, MN         27159\n",
       "7  Otter Tail County, MN       27111   Wilkin County, MN         27167"
      ]
     },
     "execution_count": 22,
     "metadata": {},
     "output_type": "execute_result"
    }
   ],
   "source": [
    "otter_tail_mn = counties.loc[counties['neighborname'] == 'Otter Tail County, MN'].reset_index(drop = True).rename(columns = {'countyname': 'neighborname', 'fipscounty': 'fipsneighbor', 'neighborname': 'countyname', 'fipsneighbor': 'fipscounty'})[['countyname', 'fipscounty', 'neighborname', 'fipsneighbor']]\n",
    "otter_tail_mn"
   ]
  },
  {
   "cell_type": "markdown",
   "metadata": {},
   "source": [
    "Some Washington County, MN rows have incorrect FIPS code (found when looking for neighbours of the other missing county - Wantonwan)"
   ]
  },
  {
   "cell_type": "code",
   "execution_count": 23,
   "metadata": {},
   "outputs": [
    {
     "data": {
      "text/html": [
       "<div>\n",
       "<style scoped>\n",
       "    .dataframe tbody tr th:only-of-type {\n",
       "        vertical-align: middle;\n",
       "    }\n",
       "\n",
       "    .dataframe tbody tr th {\n",
       "        vertical-align: top;\n",
       "    }\n",
       "\n",
       "    .dataframe thead th {\n",
       "        text-align: right;\n",
       "    }\n",
       "</style>\n",
       "<table border=\"1\" class=\"dataframe\">\n",
       "  <thead>\n",
       "    <tr style=\"text-align: right;\">\n",
       "      <th></th>\n",
       "      <th>countyname</th>\n",
       "      <th>fipscounty</th>\n",
       "      <th>neighborname</th>\n",
       "      <th>fipsneighbor</th>\n",
       "    </tr>\n",
       "  </thead>\n",
       "  <tbody>\n",
       "    <tr>\n",
       "      <th>9115</th>\n",
       "      <td>Blue Earth County, MN</td>\n",
       "      <td>27013</td>\n",
       "      <td>Watonwan County, MN</td>\n",
       "      <td>27165</td>\n",
       "    </tr>\n",
       "    <tr>\n",
       "      <th>9122</th>\n",
       "      <td>Brown County, MN</td>\n",
       "      <td>27015</td>\n",
       "      <td>Watonwan County, MN</td>\n",
       "      <td>27165</td>\n",
       "    </tr>\n",
       "    <tr>\n",
       "      <th>9182</th>\n",
       "      <td>Cottonwood County, MN</td>\n",
       "      <td>27033</td>\n",
       "      <td>Watonwan County, MN</td>\n",
       "      <td>27165</td>\n",
       "    </tr>\n",
       "    <tr>\n",
       "      <th>9286</th>\n",
       "      <td>Jackson County, MN</td>\n",
       "      <td>27063</td>\n",
       "      <td>Watonwan County, MN</td>\n",
       "      <td>27165</td>\n",
       "    </tr>\n",
       "    <tr>\n",
       "      <th>9372</th>\n",
       "      <td>Martin County, MN</td>\n",
       "      <td>27091</td>\n",
       "      <td>Watonwan County, MN</td>\n",
       "      <td>27165</td>\n",
       "    </tr>\n",
       "    <tr>\n",
       "      <th>9633</th>\n",
       "      <td>Washington County, MN</td>\n",
       "      <td>27165</td>\n",
       "      <td>Watonwan County, MN</td>\n",
       "      <td>27165</td>\n",
       "    </tr>\n",
       "  </tbody>\n",
       "</table>\n",
       "</div>"
      ],
      "text/plain": [
       "                 countyname  fipscounty         neighborname  fipsneighbor\n",
       "9115  Blue Earth County, MN       27013  Watonwan County, MN         27165\n",
       "9122       Brown County, MN       27015  Watonwan County, MN         27165\n",
       "9182  Cottonwood County, MN       27033  Watonwan County, MN         27165\n",
       "9286     Jackson County, MN       27063  Watonwan County, MN         27165\n",
       "9372      Martin County, MN       27091  Watonwan County, MN         27165\n",
       "9633  Washington County, MN       27165  Watonwan County, MN         27165"
      ]
     },
     "execution_count": 23,
     "metadata": {},
     "output_type": "execute_result"
    }
   ],
   "source": [
    "counties[counties['neighborname'] == 'Watonwan County, MN']"
   ]
  },
  {
   "cell_type": "code",
   "execution_count": 24,
   "metadata": {},
   "outputs": [
    {
     "data": {
      "text/html": [
       "<div>\n",
       "<style scoped>\n",
       "    .dataframe tbody tr th:only-of-type {\n",
       "        vertical-align: middle;\n",
       "    }\n",
       "\n",
       "    .dataframe tbody tr th {\n",
       "        vertical-align: top;\n",
       "    }\n",
       "\n",
       "    .dataframe thead th {\n",
       "        text-align: right;\n",
       "    }\n",
       "</style>\n",
       "<table border=\"1\" class=\"dataframe\">\n",
       "  <thead>\n",
       "    <tr style=\"text-align: right;\">\n",
       "      <th></th>\n",
       "      <th>countyname</th>\n",
       "      <th>fipscounty</th>\n",
       "      <th>neighborname</th>\n",
       "      <th>fipsneighbor</th>\n",
       "    </tr>\n",
       "  </thead>\n",
       "  <tbody>\n",
       "    <tr>\n",
       "      <th>9620</th>\n",
       "      <td>Washington County, MN</td>\n",
       "      <td>27163</td>\n",
       "      <td>Anoka County, MN</td>\n",
       "      <td>27003</td>\n",
       "    </tr>\n",
       "    <tr>\n",
       "      <th>9621</th>\n",
       "      <td>Washington County, MN</td>\n",
       "      <td>27163</td>\n",
       "      <td>Chisago County, MN</td>\n",
       "      <td>27025</td>\n",
       "    </tr>\n",
       "    <tr>\n",
       "      <th>9622</th>\n",
       "      <td>Washington County, MN</td>\n",
       "      <td>27163</td>\n",
       "      <td>Dakota County, MN</td>\n",
       "      <td>27037</td>\n",
       "    </tr>\n",
       "    <tr>\n",
       "      <th>9623</th>\n",
       "      <td>Washington County, MN</td>\n",
       "      <td>27163</td>\n",
       "      <td>Ramsey County, MN</td>\n",
       "      <td>27123</td>\n",
       "    </tr>\n",
       "    <tr>\n",
       "      <th>9624</th>\n",
       "      <td>Washington County, MN</td>\n",
       "      <td>27163</td>\n",
       "      <td>Washington County, MN</td>\n",
       "      <td>27163</td>\n",
       "    </tr>\n",
       "    <tr>\n",
       "      <th>9625</th>\n",
       "      <td>Washington County, MN</td>\n",
       "      <td>27163</td>\n",
       "      <td>Pierce County, WI</td>\n",
       "      <td>55093</td>\n",
       "    </tr>\n",
       "    <tr>\n",
       "      <th>9626</th>\n",
       "      <td>Washington County, MN</td>\n",
       "      <td>27163</td>\n",
       "      <td>Polk County, WI</td>\n",
       "      <td>55095</td>\n",
       "    </tr>\n",
       "    <tr>\n",
       "      <th>9627</th>\n",
       "      <td>Washington County, MN</td>\n",
       "      <td>27163</td>\n",
       "      <td>St. Croix County, WI</td>\n",
       "      <td>55109</td>\n",
       "    </tr>\n",
       "    <tr>\n",
       "      <th>9628</th>\n",
       "      <td>Washington County, MN</td>\n",
       "      <td>27163</td>\n",
       "      <td>Blue Earth County, MN</td>\n",
       "      <td>27013</td>\n",
       "    </tr>\n",
       "    <tr>\n",
       "      <th>9629</th>\n",
       "      <td>Washington County, MN</td>\n",
       "      <td>27163</td>\n",
       "      <td>Brown County, MN</td>\n",
       "      <td>27015</td>\n",
       "    </tr>\n",
       "    <tr>\n",
       "      <th>9630</th>\n",
       "      <td>Washington County, MN</td>\n",
       "      <td>27163</td>\n",
       "      <td>Cottonwood County, MN</td>\n",
       "      <td>27033</td>\n",
       "    </tr>\n",
       "    <tr>\n",
       "      <th>9631</th>\n",
       "      <td>Washington County, MN</td>\n",
       "      <td>27163</td>\n",
       "      <td>Jackson County, MN</td>\n",
       "      <td>27063</td>\n",
       "    </tr>\n",
       "    <tr>\n",
       "      <th>9632</th>\n",
       "      <td>Washington County, MN</td>\n",
       "      <td>27163</td>\n",
       "      <td>Martin County, MN</td>\n",
       "      <td>27091</td>\n",
       "    </tr>\n",
       "    <tr>\n",
       "      <th>9633</th>\n",
       "      <td>Washington County, MN</td>\n",
       "      <td>27163</td>\n",
       "      <td>Watonwan County, MN</td>\n",
       "      <td>27165</td>\n",
       "    </tr>\n",
       "  </tbody>\n",
       "</table>\n",
       "</div>"
      ],
      "text/plain": [
       "                 countyname  fipscounty           neighborname  fipsneighbor\n",
       "9620  Washington County, MN       27163       Anoka County, MN         27003\n",
       "9621  Washington County, MN       27163     Chisago County, MN         27025\n",
       "9622  Washington County, MN       27163      Dakota County, MN         27037\n",
       "9623  Washington County, MN       27163      Ramsey County, MN         27123\n",
       "9624  Washington County, MN       27163  Washington County, MN         27163\n",
       "9625  Washington County, MN       27163      Pierce County, WI         55093\n",
       "9626  Washington County, MN       27163        Polk County, WI         55095\n",
       "9627  Washington County, MN       27163   St. Croix County, WI         55109\n",
       "9628  Washington County, MN       27163  Blue Earth County, MN         27013\n",
       "9629  Washington County, MN       27163       Brown County, MN         27015\n",
       "9630  Washington County, MN       27163  Cottonwood County, MN         27033\n",
       "9631  Washington County, MN       27163     Jackson County, MN         27063\n",
       "9632  Washington County, MN       27163      Martin County, MN         27091\n",
       "9633  Washington County, MN       27163    Watonwan County, MN         27165"
      ]
     },
     "execution_count": 24,
     "metadata": {},
     "output_type": "execute_result"
    }
   ],
   "source": [
    "counties.loc[(counties['countyname'] == 'Washington County, MN') & (counties['fipscounty'] == 27165), 'fipscounty'] = 27163\n",
    "counties[counties['countyname'] == 'Washington County, MN']"
   ]
  },
  {
   "cell_type": "code",
   "execution_count": 25,
   "metadata": {},
   "outputs": [
    {
     "data": {
      "text/html": [
       "<div>\n",
       "<style scoped>\n",
       "    .dataframe tbody tr th:only-of-type {\n",
       "        vertical-align: middle;\n",
       "    }\n",
       "\n",
       "    .dataframe tbody tr th {\n",
       "        vertical-align: top;\n",
       "    }\n",
       "\n",
       "    .dataframe thead th {\n",
       "        text-align: right;\n",
       "    }\n",
       "</style>\n",
       "<table border=\"1\" class=\"dataframe\">\n",
       "  <thead>\n",
       "    <tr style=\"text-align: right;\">\n",
       "      <th></th>\n",
       "      <th>countyname</th>\n",
       "      <th>fipscounty</th>\n",
       "      <th>neighborname</th>\n",
       "      <th>fipsneighbor</th>\n",
       "    </tr>\n",
       "  </thead>\n",
       "  <tbody>\n",
       "    <tr>\n",
       "      <th>0</th>\n",
       "      <td>Watonwan County, MN</td>\n",
       "      <td>27165</td>\n",
       "      <td>Blue Earth County, MN</td>\n",
       "      <td>27013</td>\n",
       "    </tr>\n",
       "    <tr>\n",
       "      <th>1</th>\n",
       "      <td>Watonwan County, MN</td>\n",
       "      <td>27165</td>\n",
       "      <td>Brown County, MN</td>\n",
       "      <td>27015</td>\n",
       "    </tr>\n",
       "    <tr>\n",
       "      <th>2</th>\n",
       "      <td>Watonwan County, MN</td>\n",
       "      <td>27165</td>\n",
       "      <td>Cottonwood County, MN</td>\n",
       "      <td>27033</td>\n",
       "    </tr>\n",
       "    <tr>\n",
       "      <th>3</th>\n",
       "      <td>Watonwan County, MN</td>\n",
       "      <td>27165</td>\n",
       "      <td>Jackson County, MN</td>\n",
       "      <td>27063</td>\n",
       "    </tr>\n",
       "    <tr>\n",
       "      <th>4</th>\n",
       "      <td>Watonwan County, MN</td>\n",
       "      <td>27165</td>\n",
       "      <td>Martin County, MN</td>\n",
       "      <td>27091</td>\n",
       "    </tr>\n",
       "    <tr>\n",
       "      <th>5</th>\n",
       "      <td>Watonwan County, MN</td>\n",
       "      <td>27165</td>\n",
       "      <td>Washington County, MN</td>\n",
       "      <td>27163</td>\n",
       "    </tr>\n",
       "  </tbody>\n",
       "</table>\n",
       "</div>"
      ],
      "text/plain": [
       "            countyname  fipscounty           neighborname  fipsneighbor\n",
       "0  Watonwan County, MN       27165  Blue Earth County, MN         27013\n",
       "1  Watonwan County, MN       27165       Brown County, MN         27015\n",
       "2  Watonwan County, MN       27165  Cottonwood County, MN         27033\n",
       "3  Watonwan County, MN       27165     Jackson County, MN         27063\n",
       "4  Watonwan County, MN       27165      Martin County, MN         27091\n",
       "5  Watonwan County, MN       27165  Washington County, MN         27163"
      ]
     },
     "execution_count": 25,
     "metadata": {},
     "output_type": "execute_result"
    }
   ],
   "source": [
    "wantonwan_mn = counties.loc[counties['neighborname'] == 'Watonwan County, MN'].reset_index(drop = True).rename(columns = {'countyname': 'neighborname', 'fipscounty': 'fipsneighbor', 'neighborname': 'countyname', 'fipsneighbor': 'fipscounty'})[['countyname', 'fipscounty', 'neighborname', 'fipsneighbor']]\n",
    "wantonwan_mn"
   ]
  },
  {
   "cell_type": "code",
   "execution_count": 26,
   "metadata": {},
   "outputs": [
    {
     "data": {
      "text/plain": [
       "(22214, 4)"
      ]
     },
     "execution_count": 26,
     "metadata": {},
     "output_type": "execute_result"
    }
   ],
   "source": [
    "counties = pd.concat([counties, otter_tail_mn, wantonwan_mn]).reset_index(drop = True)\n",
    "counties.shape"
   ]
  },
  {
   "cell_type": "code",
   "execution_count": 27,
   "metadata": {},
   "outputs": [
    {
     "data": {
      "text/html": [
       "<div>\n",
       "<style scoped>\n",
       "    .dataframe tbody tr th:only-of-type {\n",
       "        vertical-align: middle;\n",
       "    }\n",
       "\n",
       "    .dataframe tbody tr th {\n",
       "        vertical-align: top;\n",
       "    }\n",
       "\n",
       "    .dataframe thead th {\n",
       "        text-align: right;\n",
       "    }\n",
       "</style>\n",
       "<table border=\"1\" class=\"dataframe\">\n",
       "  <thead>\n",
       "    <tr style=\"text-align: right;\">\n",
       "      <th></th>\n",
       "      <th>countyname</th>\n",
       "      <th>fipscounty</th>\n",
       "      <th>neighborname</th>\n",
       "      <th>fipsneighbor</th>\n",
       "    </tr>\n",
       "  </thead>\n",
       "  <tbody>\n",
       "    <tr>\n",
       "      <th>0</th>\n",
       "      <td>Autauga County, AL</td>\n",
       "      <td>1001</td>\n",
       "      <td>Autauga County, AL</td>\n",
       "      <td>1001</td>\n",
       "    </tr>\n",
       "    <tr>\n",
       "      <th>1</th>\n",
       "      <td>Autauga County, AL</td>\n",
       "      <td>1001</td>\n",
       "      <td>Chilton County, AL</td>\n",
       "      <td>1021</td>\n",
       "    </tr>\n",
       "    <tr>\n",
       "      <th>2</th>\n",
       "      <td>Autauga County, AL</td>\n",
       "      <td>1001</td>\n",
       "      <td>Dallas County, AL</td>\n",
       "      <td>1047</td>\n",
       "    </tr>\n",
       "    <tr>\n",
       "      <th>3</th>\n",
       "      <td>Autauga County, AL</td>\n",
       "      <td>1001</td>\n",
       "      <td>Elmore County, AL</td>\n",
       "      <td>1051</td>\n",
       "    </tr>\n",
       "    <tr>\n",
       "      <th>4</th>\n",
       "      <td>Autauga County, AL</td>\n",
       "      <td>1001</td>\n",
       "      <td>Lowndes County, AL</td>\n",
       "      <td>1085</td>\n",
       "    </tr>\n",
       "  </tbody>\n",
       "</table>\n",
       "</div>"
      ],
      "text/plain": [
       "           countyname  fipscounty        neighborname  fipsneighbor\n",
       "0  Autauga County, AL        1001  Autauga County, AL          1001\n",
       "1  Autauga County, AL        1001  Chilton County, AL          1021\n",
       "2  Autauga County, AL        1001   Dallas County, AL          1047\n",
       "3  Autauga County, AL        1001   Elmore County, AL          1051\n",
       "4  Autauga County, AL        1001  Lowndes County, AL          1085"
      ]
     },
     "execution_count": 27,
     "metadata": {},
     "output_type": "execute_result"
    }
   ],
   "source": [
    "counties.head()"
   ]
  },
  {
   "cell_type": "markdown",
   "metadata": {},
   "source": [
    "Get states and regions of counties"
   ]
  },
  {
   "cell_type": "code",
   "execution_count": 28,
   "metadata": {},
   "outputs": [],
   "source": [
    "counties['county_state'] = counties['countyname'].apply(lambda x: x.split(',')[-1].strip())\n",
    "counties['neighb_state'] = counties['neighborname'].apply(lambda x: x.split(',')[-1].strip())\n",
    "\n",
    "counties = counties.set_index('county_state').join(states_regions).reset_index().rename(columns = {'index': 'county_state', 'state1_region': 'county_region'}).set_index('neighb_state').join(states_regions).reset_index().rename(columns = {'index': 'neighb_state', 'state1_region': 'neighb_region'})"
   ]
  },
  {
   "cell_type": "code",
   "execution_count": 29,
   "metadata": {},
   "outputs": [
    {
     "data": {
      "text/plain": [
       "(21597, 8)"
      ]
     },
     "execution_count": 29,
     "metadata": {},
     "output_type": "execute_result"
    }
   ],
   "source": [
    "exclude = ['AK', 'HI', 'AS', 'GU', 'MP', 'PR', 'VI']\n",
    "\n",
    "counties = counties[~counties['county_state'].isin(exclude)].reset_index(drop = True)\n",
    "counties.shape"
   ]
  },
  {
   "cell_type": "code",
   "execution_count": 30,
   "metadata": {},
   "outputs": [
    {
     "data": {
      "text/html": [
       "<div>\n",
       "<style scoped>\n",
       "    .dataframe tbody tr th:only-of-type {\n",
       "        vertical-align: middle;\n",
       "    }\n",
       "\n",
       "    .dataframe tbody tr th {\n",
       "        vertical-align: top;\n",
       "    }\n",
       "\n",
       "    .dataframe thead th {\n",
       "        text-align: right;\n",
       "    }\n",
       "</style>\n",
       "<table border=\"1\" class=\"dataframe\">\n",
       "  <thead>\n",
       "    <tr style=\"text-align: right;\">\n",
       "      <th></th>\n",
       "      <th>countyname</th>\n",
       "      <th>county_state</th>\n",
       "      <th>county_region</th>\n",
       "      <th>fipscounty</th>\n",
       "      <th>neighborname</th>\n",
       "      <th>neighb_state</th>\n",
       "      <th>neighb_region</th>\n",
       "      <th>fipsneighbor</th>\n",
       "      <th>same_state</th>\n",
       "      <th>same_region</th>\n",
       "    </tr>\n",
       "  </thead>\n",
       "  <tbody>\n",
       "    <tr>\n",
       "      <th>0</th>\n",
       "      <td>Autauga County, AL</td>\n",
       "      <td>AL</td>\n",
       "      <td>South</td>\n",
       "      <td>1001</td>\n",
       "      <td>Autauga County, AL</td>\n",
       "      <td>AL</td>\n",
       "      <td>South</td>\n",
       "      <td>1001</td>\n",
       "      <td>True</td>\n",
       "      <td>True</td>\n",
       "    </tr>\n",
       "    <tr>\n",
       "      <th>1</th>\n",
       "      <td>Autauga County, AL</td>\n",
       "      <td>AL</td>\n",
       "      <td>South</td>\n",
       "      <td>1001</td>\n",
       "      <td>Chilton County, AL</td>\n",
       "      <td>AL</td>\n",
       "      <td>South</td>\n",
       "      <td>1021</td>\n",
       "      <td>True</td>\n",
       "      <td>True</td>\n",
       "    </tr>\n",
       "    <tr>\n",
       "      <th>2</th>\n",
       "      <td>Autauga County, AL</td>\n",
       "      <td>AL</td>\n",
       "      <td>South</td>\n",
       "      <td>1001</td>\n",
       "      <td>Dallas County, AL</td>\n",
       "      <td>AL</td>\n",
       "      <td>South</td>\n",
       "      <td>1047</td>\n",
       "      <td>True</td>\n",
       "      <td>True</td>\n",
       "    </tr>\n",
       "    <tr>\n",
       "      <th>3</th>\n",
       "      <td>Autauga County, AL</td>\n",
       "      <td>AL</td>\n",
       "      <td>South</td>\n",
       "      <td>1001</td>\n",
       "      <td>Elmore County, AL</td>\n",
       "      <td>AL</td>\n",
       "      <td>South</td>\n",
       "      <td>1051</td>\n",
       "      <td>True</td>\n",
       "      <td>True</td>\n",
       "    </tr>\n",
       "    <tr>\n",
       "      <th>4</th>\n",
       "      <td>Autauga County, AL</td>\n",
       "      <td>AL</td>\n",
       "      <td>South</td>\n",
       "      <td>1001</td>\n",
       "      <td>Lowndes County, AL</td>\n",
       "      <td>AL</td>\n",
       "      <td>South</td>\n",
       "      <td>1085</td>\n",
       "      <td>True</td>\n",
       "      <td>True</td>\n",
       "    </tr>\n",
       "  </tbody>\n",
       "</table>\n",
       "</div>"
      ],
      "text/plain": [
       "           countyname county_state county_region  fipscounty  \\\n",
       "0  Autauga County, AL           AL         South        1001   \n",
       "1  Autauga County, AL           AL         South        1001   \n",
       "2  Autauga County, AL           AL         South        1001   \n",
       "3  Autauga County, AL           AL         South        1001   \n",
       "4  Autauga County, AL           AL         South        1001   \n",
       "\n",
       "         neighborname neighb_state neighb_region  fipsneighbor  same_state  \\\n",
       "0  Autauga County, AL           AL         South          1001        True   \n",
       "1  Chilton County, AL           AL         South          1021        True   \n",
       "2   Dallas County, AL           AL         South          1047        True   \n",
       "3   Elmore County, AL           AL         South          1051        True   \n",
       "4  Lowndes County, AL           AL         South          1085        True   \n",
       "\n",
       "   same_region  \n",
       "0         True  \n",
       "1         True  \n",
       "2         True  \n",
       "3         True  \n",
       "4         True  "
      ]
     },
     "execution_count": 30,
     "metadata": {},
     "output_type": "execute_result"
    }
   ],
   "source": [
    "counties = counties[['countyname', 'county_state', 'county_region', 'fipscounty', 'neighborname', 'neighb_state', 'neighb_region', 'fipsneighbor']]  # rearragne columns\n",
    "\n",
    "counties['same_state'] = counties['county_state'] == counties['neighb_state']\n",
    "counties['same_region'] = counties['county_region'] == counties['neighb_region']\n",
    "\n",
    "counties.head()"
   ]
  },
  {
   "cell_type": "markdown",
   "metadata": {},
   "source": [
    "#### Create network of counties"
   ]
  },
  {
   "cell_type": "code",
   "execution_count": 31,
   "metadata": {},
   "outputs": [],
   "source": [
    "counties_graph = nx.from_pandas_edgelist(counties, 'countyname', 'neighborname', ['same_state', 'same_region'])\n",
    "nx.set_node_attributes(counties_graph, values = counties[['countyname', 'county_state']].drop_duplicates().set_index('countyname').to_dict()['county_state'], name = 'State')\n",
    "nx.set_node_attributes(counties_graph, values = counties[['countyname', 'county_region']].drop_duplicates().set_index('countyname')['county_region'].to_dict(), name = 'Region')"
   ]
  },
  {
   "cell_type": "code",
   "execution_count": 32,
   "metadata": {},
   "outputs": [
    {
     "data": {
      "text/plain": [
       "{'State': 'MA', 'Region': 'Northeast'}"
      ]
     },
     "execution_count": 32,
     "metadata": {},
     "output_type": "execute_result"
    }
   ],
   "source": [
    "counties_graph.nodes['Suffolk County, MA']"
   ]
  },
  {
   "cell_type": "code",
   "execution_count": 33,
   "metadata": {},
   "outputs": [
    {
     "data": {
      "text/plain": [
       "AtlasView({'Essex County, MA': {'same_state': True, 'same_region': True}, 'Middlesex County, MA': {'same_state': True, 'same_region': True}, 'Norfolk County, MA': {'same_state': True, 'same_region': True}, 'Plymouth County, MA': {'same_state': True, 'same_region': True}, 'Suffolk County, MA': {'same_state': True, 'same_region': True}})"
      ]
     },
     "execution_count": 33,
     "metadata": {},
     "output_type": "execute_result"
    }
   ],
   "source": [
    "counties_graph['Suffolk County, MA']"
   ]
  },
  {
   "cell_type": "code",
   "execution_count": 34,
   "metadata": {},
   "outputs": [
    {
     "data": {
      "text/plain": [
       "(3109, 12354)"
      ]
     },
     "execution_count": 34,
     "metadata": {},
     "output_type": "execute_result"
    }
   ],
   "source": [
    "counties_graph.number_of_nodes(), counties_graph.number_of_edges()"
   ]
  },
  {
   "cell_type": "markdown",
   "metadata": {},
   "source": [
    "Remove self loops"
   ]
  },
  {
   "cell_type": "code",
   "execution_count": 35,
   "metadata": {},
   "outputs": [
    {
     "data": {
      "text/plain": [
       "(3109, 9247)"
      ]
     },
     "execution_count": 35,
     "metadata": {},
     "output_type": "execute_result"
    }
   ],
   "source": [
    "counties_graph.remove_edges_from(nx.selfloop_edges(counties_graph))\n",
    "\n",
    "counties_graph.number_of_nodes(), counties_graph.number_of_edges()"
   ]
  },
  {
   "cell_type": "code",
   "execution_count": 36,
   "metadata": {},
   "outputs": [
    {
     "data": {
      "text/plain": [
       "AtlasView({'Essex County, MA': {'same_state': True, 'same_region': True}, 'Middlesex County, MA': {'same_state': True, 'same_region': True}, 'Norfolk County, MA': {'same_state': True, 'same_region': True}, 'Plymouth County, MA': {'same_state': True, 'same_region': True}})"
      ]
     },
     "execution_count": 36,
     "metadata": {},
     "output_type": "execute_result"
    }
   ],
   "source": [
    "counties_graph['Suffolk County, MA']"
   ]
  },
  {
   "cell_type": "markdown",
   "metadata": {},
   "source": [
    "#### Write GML"
   ]
  },
  {
   "cell_type": "code",
   "execution_count": 37,
   "metadata": {},
   "outputs": [],
   "source": [
    "nx.write_gml(counties_graph, os.getcwd() + '/Graphs/counties_graph.gml')"
   ]
  }
 ],
 "metadata": {
  "kernelspec": {
   "display_name": "Python 3",
   "language": "python",
   "name": "python3"
  },
  "language_info": {
   "codemirror_mode": {
    "name": "ipython",
    "version": 3
   },
   "file_extension": ".py",
   "mimetype": "text/x-python",
   "name": "python",
   "nbconvert_exporter": "python",
   "pygments_lexer": "ipython3",
   "version": "3.8.2"
  }
 },
 "nbformat": 4,
 "nbformat_minor": 4
}
