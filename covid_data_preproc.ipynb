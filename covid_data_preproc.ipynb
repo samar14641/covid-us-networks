{
 "cells": [
  {
   "cell_type": "markdown",
   "metadata": {},
   "source": [
    "#### Import modules"
   ]
  },
  {
   "cell_type": "code",
   "execution_count": 31,
   "metadata": {},
   "outputs": [],
   "source": [
    "import matplotlib.pyplot as plt\n",
    "import networkx as nx\n",
    "import os\n",
    "import pandas as pd\n",
    "import pickle"
   ]
  },
  {
   "cell_type": "markdown",
   "metadata": {},
   "source": [
    "Read state codes mapping file:"
   ]
  },
  {
   "cell_type": "code",
   "execution_count": 2,
   "metadata": {},
   "outputs": [
    {
     "data": {
      "text/plain": [
       "'MA'"
      ]
     },
     "execution_count": 2,
     "metadata": {},
     "output_type": "execute_result"
    }
   ],
   "source": [
    "name_to_code = []\n",
    "\n",
    "with open(os.getcwd() + '/Data/name_to_code.pickle', 'rb') as pckl:\n",
    "    name_to_code = pickle.load(pckl)\n",
    "    \n",
    "pckl.close()\n",
    "\n",
    "name_to_code['Massachusetts']"
   ]
  },
  {
   "cell_type": "markdown",
   "metadata": {},
   "source": [
    "### States\n",
    "\n",
    "#### Read data file"
   ]
  },
  {
   "cell_type": "code",
   "execution_count": 3,
   "metadata": {},
   "outputs": [
    {
     "data": {
      "text/plain": [
       "(33494, 5)"
      ]
     },
     "execution_count": 3,
     "metadata": {},
     "output_type": "execute_result"
    }
   ],
   "source": [
    "states_cases = pd.read_csv(os.getcwd() + '/Data/us-states.csv')\n",
    "states_cases.shape"
   ]
  },
  {
   "cell_type": "code",
   "execution_count": 4,
   "metadata": {},
   "outputs": [
    {
     "data": {
      "text/html": [
       "<div>\n",
       "<style scoped>\n",
       "    .dataframe tbody tr th:only-of-type {\n",
       "        vertical-align: middle;\n",
       "    }\n",
       "\n",
       "    .dataframe tbody tr th {\n",
       "        vertical-align: top;\n",
       "    }\n",
       "\n",
       "    .dataframe thead th {\n",
       "        text-align: right;\n",
       "    }\n",
       "</style>\n",
       "<table border=\"1\" class=\"dataframe\">\n",
       "  <thead>\n",
       "    <tr style=\"text-align: right;\">\n",
       "      <th></th>\n",
       "      <th>date</th>\n",
       "      <th>state</th>\n",
       "      <th>fips</th>\n",
       "      <th>cases</th>\n",
       "      <th>deaths</th>\n",
       "    </tr>\n",
       "  </thead>\n",
       "  <tbody>\n",
       "    <tr>\n",
       "      <th>33489</th>\n",
       "      <td>2021-10-31</td>\n",
       "      <td>Virginia</td>\n",
       "      <td>51</td>\n",
       "      <td>924771</td>\n",
       "      <td>13907</td>\n",
       "    </tr>\n",
       "    <tr>\n",
       "      <th>33490</th>\n",
       "      <td>2021-10-31</td>\n",
       "      <td>Washington</td>\n",
       "      <td>53</td>\n",
       "      <td>727820</td>\n",
       "      <td>8686</td>\n",
       "    </tr>\n",
       "    <tr>\n",
       "      <th>33491</th>\n",
       "      <td>2021-10-31</td>\n",
       "      <td>West Virginia</td>\n",
       "      <td>54</td>\n",
       "      <td>272532</td>\n",
       "      <td>4426</td>\n",
       "    </tr>\n",
       "    <tr>\n",
       "      <th>33492</th>\n",
       "      <td>2021-10-31</td>\n",
       "      <td>Wisconsin</td>\n",
       "      <td>55</td>\n",
       "      <td>882618</td>\n",
       "      <td>9416</td>\n",
       "    </tr>\n",
       "    <tr>\n",
       "      <th>33493</th>\n",
       "      <td>2021-10-31</td>\n",
       "      <td>Wyoming</td>\n",
       "      <td>56</td>\n",
       "      <td>102926</td>\n",
       "      <td>1174</td>\n",
       "    </tr>\n",
       "  </tbody>\n",
       "</table>\n",
       "</div>"
      ],
      "text/plain": [
       "             date          state  fips   cases  deaths\n",
       "33489  2021-10-31       Virginia    51  924771   13907\n",
       "33490  2021-10-31     Washington    53  727820    8686\n",
       "33491  2021-10-31  West Virginia    54  272532    4426\n",
       "33492  2021-10-31      Wisconsin    55  882618    9416\n",
       "33493  2021-10-31        Wyoming    56  102926    1174"
      ]
     },
     "execution_count": 4,
     "metadata": {},
     "output_type": "execute_result"
    }
   ],
   "source": [
    "states_cases.tail()"
   ]
  },
  {
   "cell_type": "code",
   "execution_count": 5,
   "metadata": {},
   "outputs": [
    {
     "data": {
      "text/plain": [
       "(56,)"
      ]
     },
     "execution_count": 5,
     "metadata": {},
     "output_type": "execute_result"
    }
   ],
   "source": [
    "# pd.Series(states_cases['state'].unique()).sort_values()\n",
    "states_cases['state'].unique().shape"
   ]
  },
  {
   "cell_type": "markdown",
   "metadata": {},
   "source": [
    "#### Preprocess data\n",
    "\n",
    "Remove AK, HI, and territories, and label DC:"
   ]
  },
  {
   "cell_type": "code",
   "execution_count": 6,
   "metadata": {},
   "outputs": [
    {
     "data": {
      "text/html": [
       "<div>\n",
       "<style scoped>\n",
       "    .dataframe tbody tr th:only-of-type {\n",
       "        vertical-align: middle;\n",
       "    }\n",
       "\n",
       "    .dataframe tbody tr th {\n",
       "        vertical-align: top;\n",
       "    }\n",
       "\n",
       "    .dataframe thead th {\n",
       "        text-align: right;\n",
       "    }\n",
       "</style>\n",
       "<table border=\"1\" class=\"dataframe\">\n",
       "  <thead>\n",
       "    <tr style=\"text-align: right;\">\n",
       "      <th></th>\n",
       "      <th>date</th>\n",
       "      <th>state</th>\n",
       "      <th>fips</th>\n",
       "      <th>cases</th>\n",
       "      <th>deaths</th>\n",
       "      <th>state_code</th>\n",
       "    </tr>\n",
       "  </thead>\n",
       "  <tbody>\n",
       "    <tr>\n",
       "      <th>33489</th>\n",
       "      <td>2021-10-31</td>\n",
       "      <td>Virginia</td>\n",
       "      <td>51</td>\n",
       "      <td>924771</td>\n",
       "      <td>13907</td>\n",
       "      <td>VA</td>\n",
       "    </tr>\n",
       "    <tr>\n",
       "      <th>33490</th>\n",
       "      <td>2021-10-31</td>\n",
       "      <td>Washington</td>\n",
       "      <td>53</td>\n",
       "      <td>727820</td>\n",
       "      <td>8686</td>\n",
       "      <td>WA</td>\n",
       "    </tr>\n",
       "    <tr>\n",
       "      <th>33491</th>\n",
       "      <td>2021-10-31</td>\n",
       "      <td>West Virginia</td>\n",
       "      <td>54</td>\n",
       "      <td>272532</td>\n",
       "      <td>4426</td>\n",
       "      <td>WV</td>\n",
       "    </tr>\n",
       "    <tr>\n",
       "      <th>33492</th>\n",
       "      <td>2021-10-31</td>\n",
       "      <td>Wisconsin</td>\n",
       "      <td>55</td>\n",
       "      <td>882618</td>\n",
       "      <td>9416</td>\n",
       "      <td>WI</td>\n",
       "    </tr>\n",
       "    <tr>\n",
       "      <th>33493</th>\n",
       "      <td>2021-10-31</td>\n",
       "      <td>Wyoming</td>\n",
       "      <td>56</td>\n",
       "      <td>102926</td>\n",
       "      <td>1174</td>\n",
       "      <td>WY</td>\n",
       "    </tr>\n",
       "  </tbody>\n",
       "</table>\n",
       "</div>"
      ],
      "text/plain": [
       "             date          state  fips   cases  deaths state_code\n",
       "33489  2021-10-31       Virginia    51  924771   13907         VA\n",
       "33490  2021-10-31     Washington    53  727820    8686         WA\n",
       "33491  2021-10-31  West Virginia    54  272532    4426         WV\n",
       "33492  2021-10-31      Wisconsin    55  882618    9416         WI\n",
       "33493  2021-10-31        Wyoming    56  102926    1174         WY"
      ]
     },
     "execution_count": 6,
     "metadata": {},
     "output_type": "execute_result"
    }
   ],
   "source": [
    "states_cases['state_code'] = states_cases['state'].apply(lambda x: name_to_code[x] if x in name_to_code else 'EXCLUDE')\n",
    "states_cases.loc[states_cases['state'] == 'District of Columbia', 'state_code'] = 'DC'\n",
    "states_cases.loc[(states_cases['state_code'] == 'HI') | (states_cases['state_code'] == 'AK'), 'state_code'] = 'EXCLUDE'\n",
    "\n",
    "states_cases.tail()"
   ]
  },
  {
   "cell_type": "code",
   "execution_count": 7,
   "metadata": {},
   "outputs": [
    {
     "data": {
      "text/plain": [
       "array(['Hawaii', 'Alaska', 'Puerto Rico', 'Virgin Islands', 'Guam',\n",
       "       'Northern Mariana Islands', 'American Samoa'], dtype=object)"
      ]
     },
     "execution_count": 7,
     "metadata": {},
     "output_type": "execute_result"
    }
   ],
   "source": [
    "states_cases[states_cases['state_code'] == 'EXCLUDE']['state'].unique()"
   ]
  },
  {
   "cell_type": "code",
   "execution_count": 8,
   "metadata": {},
   "outputs": [
    {
     "data": {
      "text/plain": [
       "(49,)"
      ]
     },
     "execution_count": 8,
     "metadata": {},
     "output_type": "execute_result"
    }
   ],
   "source": [
    "states_cases = states_cases[states_cases['state_code'] != 'EXCLUDE']\n",
    "states_cases['state'].unique().shape"
   ]
  },
  {
   "cell_type": "markdown",
   "metadata": {},
   "source": [
    "Convert date from string to date type:"
   ]
  },
  {
   "cell_type": "code",
   "execution_count": 9,
   "metadata": {},
   "outputs": [],
   "source": [
    "states_cases['date'] = pd.to_datetime(states_cases['date'])"
   ]
  },
  {
   "cell_type": "markdown",
   "metadata": {},
   "source": [
    "Sample pipeline to get daily cases:\n",
    "\n",
    "(need to figure out if this works for all data)"
   ]
  },
  {
   "cell_type": "code",
   "execution_count": 10,
   "metadata": {},
   "outputs": [
    {
     "data": {
      "text/html": [
       "<div>\n",
       "<style scoped>\n",
       "    .dataframe tbody tr th:only-of-type {\n",
       "        vertical-align: middle;\n",
       "    }\n",
       "\n",
       "    .dataframe tbody tr th {\n",
       "        vertical-align: top;\n",
       "    }\n",
       "\n",
       "    .dataframe thead th {\n",
       "        text-align: right;\n",
       "    }\n",
       "</style>\n",
       "<table border=\"1\" class=\"dataframe\">\n",
       "  <thead>\n",
       "    <tr style=\"text-align: right;\">\n",
       "      <th></th>\n",
       "      <th>date</th>\n",
       "      <th>state</th>\n",
       "      <th>fips</th>\n",
       "      <th>cases</th>\n",
       "      <th>deaths</th>\n",
       "      <th>state_code</th>\n",
       "      <th>new_cases</th>\n",
       "    </tr>\n",
       "  </thead>\n",
       "  <tbody>\n",
       "    <tr>\n",
       "      <th>32878</th>\n",
       "      <td>2021-10-21</td>\n",
       "      <td>Alabama</td>\n",
       "      <td>1</td>\n",
       "      <td>817054</td>\n",
       "      <td>15320</td>\n",
       "      <td>AL</td>\n",
       "      <td>NaN</td>\n",
       "    </tr>\n",
       "    <tr>\n",
       "      <th>32934</th>\n",
       "      <td>2021-10-22</td>\n",
       "      <td>Alabama</td>\n",
       "      <td>1</td>\n",
       "      <td>818652</td>\n",
       "      <td>15378</td>\n",
       "      <td>AL</td>\n",
       "      <td>1598.0</td>\n",
       "    </tr>\n",
       "    <tr>\n",
       "      <th>32990</th>\n",
       "      <td>2021-10-23</td>\n",
       "      <td>Alabama</td>\n",
       "      <td>1</td>\n",
       "      <td>819597</td>\n",
       "      <td>15406</td>\n",
       "      <td>AL</td>\n",
       "      <td>945.0</td>\n",
       "    </tr>\n",
       "    <tr>\n",
       "      <th>33046</th>\n",
       "      <td>2021-10-24</td>\n",
       "      <td>Alabama</td>\n",
       "      <td>1</td>\n",
       "      <td>820011</td>\n",
       "      <td>15407</td>\n",
       "      <td>AL</td>\n",
       "      <td>414.0</td>\n",
       "    </tr>\n",
       "    <tr>\n",
       "      <th>33102</th>\n",
       "      <td>2021-10-25</td>\n",
       "      <td>Alabama</td>\n",
       "      <td>1</td>\n",
       "      <td>820312</td>\n",
       "      <td>15407</td>\n",
       "      <td>AL</td>\n",
       "      <td>301.0</td>\n",
       "    </tr>\n",
       "    <tr>\n",
       "      <th>...</th>\n",
       "      <td>...</td>\n",
       "      <td>...</td>\n",
       "      <td>...</td>\n",
       "      <td>...</td>\n",
       "      <td>...</td>\n",
       "      <td>...</td>\n",
       "      <td>...</td>\n",
       "    </tr>\n",
       "    <tr>\n",
       "      <th>33269</th>\n",
       "      <td>2021-10-27</td>\n",
       "      <td>Wyoming</td>\n",
       "      <td>56</td>\n",
       "      <td>101912</td>\n",
       "      <td>1174</td>\n",
       "      <td>WY</td>\n",
       "      <td>488.0</td>\n",
       "    </tr>\n",
       "    <tr>\n",
       "      <th>33325</th>\n",
       "      <td>2021-10-28</td>\n",
       "      <td>Wyoming</td>\n",
       "      <td>56</td>\n",
       "      <td>102403</td>\n",
       "      <td>1174</td>\n",
       "      <td>WY</td>\n",
       "      <td>491.0</td>\n",
       "    </tr>\n",
       "    <tr>\n",
       "      <th>33381</th>\n",
       "      <td>2021-10-29</td>\n",
       "      <td>Wyoming</td>\n",
       "      <td>56</td>\n",
       "      <td>102926</td>\n",
       "      <td>1174</td>\n",
       "      <td>WY</td>\n",
       "      <td>523.0</td>\n",
       "    </tr>\n",
       "    <tr>\n",
       "      <th>33437</th>\n",
       "      <td>2021-10-30</td>\n",
       "      <td>Wyoming</td>\n",
       "      <td>56</td>\n",
       "      <td>102926</td>\n",
       "      <td>1174</td>\n",
       "      <td>WY</td>\n",
       "      <td>0.0</td>\n",
       "    </tr>\n",
       "    <tr>\n",
       "      <th>33493</th>\n",
       "      <td>2021-10-31</td>\n",
       "      <td>Wyoming</td>\n",
       "      <td>56</td>\n",
       "      <td>102926</td>\n",
       "      <td>1174</td>\n",
       "      <td>WY</td>\n",
       "      <td>0.0</td>\n",
       "    </tr>\n",
       "  </tbody>\n",
       "</table>\n",
       "<p>539 rows × 7 columns</p>\n",
       "</div>"
      ],
      "text/plain": [
       "            date    state  fips   cases  deaths state_code  new_cases\n",
       "32878 2021-10-21  Alabama     1  817054   15320         AL        NaN\n",
       "32934 2021-10-22  Alabama     1  818652   15378         AL     1598.0\n",
       "32990 2021-10-23  Alabama     1  819597   15406         AL      945.0\n",
       "33046 2021-10-24  Alabama     1  820011   15407         AL      414.0\n",
       "33102 2021-10-25  Alabama     1  820312   15407         AL      301.0\n",
       "...          ...      ...   ...     ...     ...        ...        ...\n",
       "33269 2021-10-27  Wyoming    56  101912    1174         WY      488.0\n",
       "33325 2021-10-28  Wyoming    56  102403    1174         WY      491.0\n",
       "33381 2021-10-29  Wyoming    56  102926    1174         WY      523.0\n",
       "33437 2021-10-30  Wyoming    56  102926    1174         WY        0.0\n",
       "33493 2021-10-31  Wyoming    56  102926    1174         WY        0.0\n",
       "\n",
       "[539 rows x 7 columns]"
      ]
     },
     "execution_count": 10,
     "metadata": {},
     "output_type": "execute_result"
    }
   ],
   "source": [
    "small_df = states_cases[states_cases['date'] > '2021-10-20'].copy()\n",
    "\n",
    "small_df.sort_values(['state_code', 'date'], inplace = True)\n",
    "\n",
    "small_df['new_cases'] = small_df.groupby(['state_code'])['cases'].transform(lambda x: x.diff())\n",
    "\n",
    "small_df"
   ]
  },
  {
   "cell_type": "code",
   "execution_count": 30,
   "metadata": {},
   "outputs": [
    {
     "data": {
      "text/html": [
       "<div>\n",
       "<style scoped>\n",
       "    .dataframe tbody tr th:only-of-type {\n",
       "        vertical-align: middle;\n",
       "    }\n",
       "\n",
       "    .dataframe tbody tr th {\n",
       "        vertical-align: top;\n",
       "    }\n",
       "\n",
       "    .dataframe thead th {\n",
       "        text-align: right;\n",
       "    }\n",
       "</style>\n",
       "<table border=\"1\" class=\"dataframe\">\n",
       "  <thead>\n",
       "    <tr style=\"text-align: right;\">\n",
       "      <th>state_code</th>\n",
       "      <th>AL</th>\n",
       "      <th>AR</th>\n",
       "      <th>AZ</th>\n",
       "      <th>CA</th>\n",
       "      <th>CO</th>\n",
       "      <th>CT</th>\n",
       "      <th>DC</th>\n",
       "      <th>DE</th>\n",
       "      <th>FL</th>\n",
       "      <th>GA</th>\n",
       "      <th>...</th>\n",
       "      <th>SD</th>\n",
       "      <th>TN</th>\n",
       "      <th>TX</th>\n",
       "      <th>UT</th>\n",
       "      <th>VA</th>\n",
       "      <th>VT</th>\n",
       "      <th>WA</th>\n",
       "      <th>WI</th>\n",
       "      <th>WV</th>\n",
       "      <th>WY</th>\n",
       "    </tr>\n",
       "    <tr>\n",
       "      <th>state_code</th>\n",
       "      <th></th>\n",
       "      <th></th>\n",
       "      <th></th>\n",
       "      <th></th>\n",
       "      <th></th>\n",
       "      <th></th>\n",
       "      <th></th>\n",
       "      <th></th>\n",
       "      <th></th>\n",
       "      <th></th>\n",
       "      <th></th>\n",
       "      <th></th>\n",
       "      <th></th>\n",
       "      <th></th>\n",
       "      <th></th>\n",
       "      <th></th>\n",
       "      <th></th>\n",
       "      <th></th>\n",
       "      <th></th>\n",
       "      <th></th>\n",
       "      <th></th>\n",
       "    </tr>\n",
       "  </thead>\n",
       "  <tbody>\n",
       "    <tr>\n",
       "      <th>AL</th>\n",
       "      <td>1.000000</td>\n",
       "      <td>0.443081</td>\n",
       "      <td>0.746875</td>\n",
       "      <td>0.119944</td>\n",
       "      <td>0.126350</td>\n",
       "      <td>0.108660</td>\n",
       "      <td>-0.007688</td>\n",
       "      <td>-0.039669</td>\n",
       "      <td>0.099996</td>\n",
       "      <td>0.399152</td>\n",
       "      <td>...</td>\n",
       "      <td>0.356948</td>\n",
       "      <td>0.210119</td>\n",
       "      <td>0.281991</td>\n",
       "      <td>0.262543</td>\n",
       "      <td>0.142034</td>\n",
       "      <td>-0.109386</td>\n",
       "      <td>0.107929</td>\n",
       "      <td>0.167119</td>\n",
       "      <td>0.549429</td>\n",
       "      <td>0.224966</td>\n",
       "    </tr>\n",
       "    <tr>\n",
       "      <th>AR</th>\n",
       "      <td>0.443081</td>\n",
       "      <td>1.000000</td>\n",
       "      <td>0.551349</td>\n",
       "      <td>0.483710</td>\n",
       "      <td>-0.012464</td>\n",
       "      <td>0.001919</td>\n",
       "      <td>-0.128191</td>\n",
       "      <td>0.230553</td>\n",
       "      <td>0.090242</td>\n",
       "      <td>0.155411</td>\n",
       "      <td>...</td>\n",
       "      <td>0.490840</td>\n",
       "      <td>0.561738</td>\n",
       "      <td>0.584977</td>\n",
       "      <td>0.065402</td>\n",
       "      <td>-0.051697</td>\n",
       "      <td>-0.046367</td>\n",
       "      <td>-0.005504</td>\n",
       "      <td>0.141461</td>\n",
       "      <td>0.657850</td>\n",
       "      <td>0.114270</td>\n",
       "    </tr>\n",
       "    <tr>\n",
       "      <th>AZ</th>\n",
       "      <td>0.746875</td>\n",
       "      <td>0.551349</td>\n",
       "      <td>1.000000</td>\n",
       "      <td>-0.208232</td>\n",
       "      <td>-0.218823</td>\n",
       "      <td>-0.206025</td>\n",
       "      <td>-0.256853</td>\n",
       "      <td>0.369840</td>\n",
       "      <td>-0.233540</td>\n",
       "      <td>-0.011865</td>\n",
       "      <td>...</td>\n",
       "      <td>-0.033997</td>\n",
       "      <td>-0.115152</td>\n",
       "      <td>-0.033540</td>\n",
       "      <td>-0.133306</td>\n",
       "      <td>-0.226712</td>\n",
       "      <td>0.217088</td>\n",
       "      <td>-0.258291</td>\n",
       "      <td>-0.233253</td>\n",
       "      <td>0.568213</td>\n",
       "      <td>-0.099803</td>\n",
       "    </tr>\n",
       "    <tr>\n",
       "      <th>CA</th>\n",
       "      <td>0.119944</td>\n",
       "      <td>0.483710</td>\n",
       "      <td>-0.208232</td>\n",
       "      <td>1.000000</td>\n",
       "      <td>0.447814</td>\n",
       "      <td>0.335012</td>\n",
       "      <td>0.197812</td>\n",
       "      <td>-0.552556</td>\n",
       "      <td>0.390211</td>\n",
       "      <td>0.417100</td>\n",
       "      <td>...</td>\n",
       "      <td>0.848575</td>\n",
       "      <td>0.945160</td>\n",
       "      <td>0.804489</td>\n",
       "      <td>0.436713</td>\n",
       "      <td>0.319136</td>\n",
       "      <td>-0.199968</td>\n",
       "      <td>0.430965</td>\n",
       "      <td>0.594980</td>\n",
       "      <td>0.112584</td>\n",
       "      <td>0.402675</td>\n",
       "    </tr>\n",
       "    <tr>\n",
       "      <th>CO</th>\n",
       "      <td>0.126350</td>\n",
       "      <td>-0.012464</td>\n",
       "      <td>-0.218823</td>\n",
       "      <td>0.447814</td>\n",
       "      <td>1.000000</td>\n",
       "      <td>0.973711</td>\n",
       "      <td>0.946002</td>\n",
       "      <td>-0.267061</td>\n",
       "      <td>0.850845</td>\n",
       "      <td>0.930112</td>\n",
       "      <td>...</td>\n",
       "      <td>0.581241</td>\n",
       "      <td>0.274737</td>\n",
       "      <td>0.678592</td>\n",
       "      <td>0.962240</td>\n",
       "      <td>0.954506</td>\n",
       "      <td>-0.102484</td>\n",
       "      <td>0.989729</td>\n",
       "      <td>0.945130</td>\n",
       "      <td>0.416511</td>\n",
       "      <td>0.966193</td>\n",
       "    </tr>\n",
       "  </tbody>\n",
       "</table>\n",
       "<p>5 rows × 49 columns</p>\n",
       "</div>"
      ],
      "text/plain": [
       "state_code        AL        AR        AZ        CA        CO        CT  \\\n",
       "state_code                                                               \n",
       "AL          1.000000  0.443081  0.746875  0.119944  0.126350  0.108660   \n",
       "AR          0.443081  1.000000  0.551349  0.483710 -0.012464  0.001919   \n",
       "AZ          0.746875  0.551349  1.000000 -0.208232 -0.218823 -0.206025   \n",
       "CA          0.119944  0.483710 -0.208232  1.000000  0.447814  0.335012   \n",
       "CO          0.126350 -0.012464 -0.218823  0.447814  1.000000  0.973711   \n",
       "\n",
       "state_code        DC        DE        FL        GA  ...        SD        TN  \\\n",
       "state_code                                          ...                       \n",
       "AL         -0.007688 -0.039669  0.099996  0.399152  ...  0.356948  0.210119   \n",
       "AR         -0.128191  0.230553  0.090242  0.155411  ...  0.490840  0.561738   \n",
       "AZ         -0.256853  0.369840 -0.233540 -0.011865  ... -0.033997 -0.115152   \n",
       "CA          0.197812 -0.552556  0.390211  0.417100  ...  0.848575  0.945160   \n",
       "CO          0.946002 -0.267061  0.850845  0.930112  ...  0.581241  0.274737   \n",
       "\n",
       "state_code        TX        UT        VA        VT        WA        WI  \\\n",
       "state_code                                                               \n",
       "AL          0.281991  0.262543  0.142034 -0.109386  0.107929  0.167119   \n",
       "AR          0.584977  0.065402 -0.051697 -0.046367 -0.005504  0.141461   \n",
       "AZ         -0.033540 -0.133306 -0.226712  0.217088 -0.258291 -0.233253   \n",
       "CA          0.804489  0.436713  0.319136 -0.199968  0.430965  0.594980   \n",
       "CO          0.678592  0.962240  0.954506 -0.102484  0.989729  0.945130   \n",
       "\n",
       "state_code        WV        WY  \n",
       "state_code                      \n",
       "AL          0.549429  0.224966  \n",
       "AR          0.657850  0.114270  \n",
       "AZ          0.568213 -0.099803  \n",
       "CA          0.112584  0.402675  \n",
       "CO          0.416511  0.966193  \n",
       "\n",
       "[5 rows x 49 columns]"
      ]
     },
     "execution_count": 30,
     "metadata": {},
     "output_type": "execute_result"
    }
   ],
   "source": [
    "small_df_corrs = small_df.pivot(index = 'date', columns = 'state_code', values = 'new_cases').corr()\n",
    "small_df_corrs.head()"
   ]
  },
  {
   "cell_type": "code",
   "execution_count": 36,
   "metadata": {},
   "outputs": [
    {
     "data": {
      "text/plain": [
       "561"
      ]
     },
     "execution_count": 36,
     "metadata": {},
     "output_type": "execute_result"
    }
   ],
   "source": [
    "edge_list = []\n",
    "\n",
    "for state in small_df_corrs.columns:\n",
    "    for neighbour in small_df_corrs[state][small_df_corrs[state] > 0.5].index:\n",
    "        if state != neighbour and (neighbour, state) not in edge_list:\n",
    "            edge_list.append((state, neighbour))\n",
    "            \n",
    "len(edge_list)"
   ]
  },
  {
   "cell_type": "code",
   "execution_count": 37,
   "metadata": {},
   "outputs": [
    {
     "data": {
      "text/plain": [
       "'Graph with 49 nodes and 561 edges'"
      ]
     },
     "execution_count": 37,
     "metadata": {},
     "output_type": "execute_result"
    }
   ],
   "source": [
    "corr_g = nx.Graph()\n",
    "corr_g.add_edges_from(edge_list)\n",
    "\n",
    "nx.info(corr_g)"
   ]
  },
  {
   "cell_type": "code",
   "execution_count": 38,
   "metadata": {},
   "outputs": [
    {
     "data": {
      "image/png": "[encoded data removed]",
      "text/plain": [
       "<Figure size 576x576 with 1 Axes>"
      ]
     },
     "metadata": {},
     "output_type": "display_data"
    }
   ],
   "source": [
    "fig = plt.figure(figsize = (8, 8))\n",
    "nx.draw(corr_g, node_color = '#add8e6', with_labels = True)\n",
    "plt.show()\n",
    "plt.close()"
   ]
  }
 ],
 "metadata": {
  "kernelspec": {
   "display_name": "Python 3",
   "language": "python",
   "name": "python3"
  },
  "language_info": {
   "codemirror_mode": {
    "name": "ipython",
    "version": 3
   },
   "file_extension": ".py",
   "mimetype": "text/x-python",
   "name": "python",
   "nbconvert_exporter": "python",
   "pygments_lexer": "ipython3",
   "version": "3.8.2"
  }
 },
 "nbformat": 4,
 "nbformat_minor": 4
}
