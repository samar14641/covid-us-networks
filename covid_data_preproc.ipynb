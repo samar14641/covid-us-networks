{
 "cells": [
  {
   "cell_type": "markdown",
   "metadata": {},
   "source": [
    "#### Import modules"
   ]
  },
  {
   "cell_type": "code",
   "execution_count": 1,
   "metadata": {},
   "outputs": [],
   "source": [
    "import os\n",
    "import pandas as pd\n",
    "import pickle"
   ]
  },
  {
   "cell_type": "markdown",
   "metadata": {},
   "source": [
    "Read state codes mapping file:"
   ]
  },
  {
   "cell_type": "code",
   "execution_count": 2,
   "metadata": {},
   "outputs": [
    {
     "data": {
      "text/plain": [
       "'MA'"
      ]
     },
     "execution_count": 2,
     "metadata": {},
     "output_type": "execute_result"
    }
   ],
   "source": [
    "name_to_code = []\n",
    "\n",
    "with open(os.getcwd() + '/Data/name_to_code.pickle', 'rb') as pckl:\n",
    "    name_to_code = pickle.load(pckl)\n",
    "    \n",
    "pckl.close()\n",
    "\n",
    "name_to_code['Massachusetts']"
   ]
  },
  {
   "cell_type": "markdown",
   "metadata": {},
   "source": [
    "### States\n",
    "\n",
    "#### Read data file"
   ]
  },
  {
   "cell_type": "code",
   "execution_count": 3,
   "metadata": {},
   "outputs": [
    {
     "data": {
      "text/plain": [
       "(33494, 5)"
      ]
     },
     "execution_count": 3,
     "metadata": {},
     "output_type": "execute_result"
    }
   ],
   "source": [
    "states_cases = pd.read_csv(os.getcwd() + '/Data/us-states.csv')\n",
    "states_cases.shape"
   ]
  },
  {
   "cell_type": "code",
   "execution_count": 4,
   "metadata": {},
   "outputs": [
    {
     "data": {
      "text/html": [
       "<div>\n",
       "<style scoped>\n",
       "    .dataframe tbody tr th:only-of-type {\n",
       "        vertical-align: middle;\n",
       "    }\n",
       "\n",
       "    .dataframe tbody tr th {\n",
       "        vertical-align: top;\n",
       "    }\n",
       "\n",
       "    .dataframe thead th {\n",
       "        text-align: right;\n",
       "    }\n",
       "</style>\n",
       "<table border=\"1\" class=\"dataframe\">\n",
       "  <thead>\n",
       "    <tr style=\"text-align: right;\">\n",
       "      <th></th>\n",
       "      <th>date</th>\n",
       "      <th>state</th>\n",
       "      <th>fips</th>\n",
       "      <th>cases</th>\n",
       "      <th>deaths</th>\n",
       "    </tr>\n",
       "  </thead>\n",
       "  <tbody>\n",
       "    <tr>\n",
       "      <th>33489</th>\n",
       "      <td>2021-10-31</td>\n",
       "      <td>Virginia</td>\n",
       "      <td>51</td>\n",
       "      <td>924771</td>\n",
       "      <td>13907</td>\n",
       "    </tr>\n",
       "    <tr>\n",
       "      <th>33490</th>\n",
       "      <td>2021-10-31</td>\n",
       "      <td>Washington</td>\n",
       "      <td>53</td>\n",
       "      <td>727820</td>\n",
       "      <td>8686</td>\n",
       "    </tr>\n",
       "    <tr>\n",
       "      <th>33491</th>\n",
       "      <td>2021-10-31</td>\n",
       "      <td>West Virginia</td>\n",
       "      <td>54</td>\n",
       "      <td>272532</td>\n",
       "      <td>4426</td>\n",
       "    </tr>\n",
       "    <tr>\n",
       "      <th>33492</th>\n",
       "      <td>2021-10-31</td>\n",
       "      <td>Wisconsin</td>\n",
       "      <td>55</td>\n",
       "      <td>882618</td>\n",
       "      <td>9416</td>\n",
       "    </tr>\n",
       "    <tr>\n",
       "      <th>33493</th>\n",
       "      <td>2021-10-31</td>\n",
       "      <td>Wyoming</td>\n",
       "      <td>56</td>\n",
       "      <td>102926</td>\n",
       "      <td>1174</td>\n",
       "    </tr>\n",
       "  </tbody>\n",
       "</table>\n",
       "</div>"
      ],
      "text/plain": [
       "             date          state  fips   cases  deaths\n",
       "33489  2021-10-31       Virginia    51  924771   13907\n",
       "33490  2021-10-31     Washington    53  727820    8686\n",
       "33491  2021-10-31  West Virginia    54  272532    4426\n",
       "33492  2021-10-31      Wisconsin    55  882618    9416\n",
       "33493  2021-10-31        Wyoming    56  102926    1174"
      ]
     },
     "execution_count": 4,
     "metadata": {},
     "output_type": "execute_result"
    }
   ],
   "source": [
    "states_cases.tail()"
   ]
  },
  {
   "cell_type": "code",
   "execution_count": 5,
   "metadata": {},
   "outputs": [
    {
     "data": {
      "text/plain": [
       "(56,)"
      ]
     },
     "execution_count": 5,
     "metadata": {},
     "output_type": "execute_result"
    }
   ],
   "source": [
    "states_cases['state'].unique().shape"
   ]
  },
  {
   "cell_type": "markdown",
   "metadata": {},
   "source": [
    "#### Preprocess data\n",
    "\n",
    "Remove AK, HI, and territories, and label DC:"
   ]
  },
  {
   "cell_type": "code",
   "execution_count": 6,
   "metadata": {},
   "outputs": [
    {
     "data": {
      "text/html": [
       "<div>\n",
       "<style scoped>\n",
       "    .dataframe tbody tr th:only-of-type {\n",
       "        vertical-align: middle;\n",
       "    }\n",
       "\n",
       "    .dataframe tbody tr th {\n",
       "        vertical-align: top;\n",
       "    }\n",
       "\n",
       "    .dataframe thead th {\n",
       "        text-align: right;\n",
       "    }\n",
       "</style>\n",
       "<table border=\"1\" class=\"dataframe\">\n",
       "  <thead>\n",
       "    <tr style=\"text-align: right;\">\n",
       "      <th></th>\n",
       "      <th>date</th>\n",
       "      <th>state</th>\n",
       "      <th>fips</th>\n",
       "      <th>cases</th>\n",
       "      <th>deaths</th>\n",
       "      <th>state_code</th>\n",
       "    </tr>\n",
       "  </thead>\n",
       "  <tbody>\n",
       "    <tr>\n",
       "      <th>33489</th>\n",
       "      <td>2021-10-31</td>\n",
       "      <td>Virginia</td>\n",
       "      <td>51</td>\n",
       "      <td>924771</td>\n",
       "      <td>13907</td>\n",
       "      <td>VA</td>\n",
       "    </tr>\n",
       "    <tr>\n",
       "      <th>33490</th>\n",
       "      <td>2021-10-31</td>\n",
       "      <td>Washington</td>\n",
       "      <td>53</td>\n",
       "      <td>727820</td>\n",
       "      <td>8686</td>\n",
       "      <td>WA</td>\n",
       "    </tr>\n",
       "    <tr>\n",
       "      <th>33491</th>\n",
       "      <td>2021-10-31</td>\n",
       "      <td>West Virginia</td>\n",
       "      <td>54</td>\n",
       "      <td>272532</td>\n",
       "      <td>4426</td>\n",
       "      <td>WV</td>\n",
       "    </tr>\n",
       "    <tr>\n",
       "      <th>33492</th>\n",
       "      <td>2021-10-31</td>\n",
       "      <td>Wisconsin</td>\n",
       "      <td>55</td>\n",
       "      <td>882618</td>\n",
       "      <td>9416</td>\n",
       "      <td>WI</td>\n",
       "    </tr>\n",
       "    <tr>\n",
       "      <th>33493</th>\n",
       "      <td>2021-10-31</td>\n",
       "      <td>Wyoming</td>\n",
       "      <td>56</td>\n",
       "      <td>102926</td>\n",
       "      <td>1174</td>\n",
       "      <td>WY</td>\n",
       "    </tr>\n",
       "  </tbody>\n",
       "</table>\n",
       "</div>"
      ],
      "text/plain": [
       "             date          state  fips   cases  deaths state_code\n",
       "33489  2021-10-31       Virginia    51  924771   13907         VA\n",
       "33490  2021-10-31     Washington    53  727820    8686         WA\n",
       "33491  2021-10-31  West Virginia    54  272532    4426         WV\n",
       "33492  2021-10-31      Wisconsin    55  882618    9416         WI\n",
       "33493  2021-10-31        Wyoming    56  102926    1174         WY"
      ]
     },
     "execution_count": 6,
     "metadata": {},
     "output_type": "execute_result"
    }
   ],
   "source": [
    "states_cases['state_code'] = states_cases['state'].apply(lambda x: name_to_code[x] if x in name_to_code else 'EXCLUDE')\n",
    "states_cases.loc[states_cases['state'] == 'District of Columbia', 'state_code'] = 'DC'\n",
    "states_cases.loc[(states_cases['state_code'] == 'HI') | (states_cases['state_code'] == 'AK'), 'state_code'] = 'EXCLUDE'\n",
    "\n",
    "states_cases.tail()"
   ]
  },
  {
   "cell_type": "code",
   "execution_count": 7,
   "metadata": {},
   "outputs": [
    {
     "data": {
      "text/plain": [
       "array(['Hawaii', 'Alaska', 'Puerto Rico', 'Virgin Islands', 'Guam',\n",
       "       'Northern Mariana Islands', 'American Samoa'], dtype=object)"
      ]
     },
     "execution_count": 7,
     "metadata": {},
     "output_type": "execute_result"
    }
   ],
   "source": [
    "states_cases[states_cases['state_code'] == 'EXCLUDE']['state'].unique()"
   ]
  },
  {
   "cell_type": "code",
   "execution_count": 8,
   "metadata": {},
   "outputs": [
    {
     "data": {
      "text/plain": [
       "(49,)"
      ]
     },
     "execution_count": 8,
     "metadata": {},
     "output_type": "execute_result"
    }
   ],
   "source": [
    "states_cases = states_cases[states_cases['state_code'] != 'EXCLUDE']\n",
    "states_cases['state'].unique().shape"
   ]
  },
  {
   "cell_type": "markdown",
   "metadata": {},
   "source": [
    "Convert date from string to date type:"
   ]
  },
  {
   "cell_type": "code",
   "execution_count": 9,
   "metadata": {},
   "outputs": [],
   "source": [
    "states_cases['date'] = pd.to_datetime(states_cases['date'])"
   ]
  },
  {
   "cell_type": "markdown",
   "metadata": {},
   "source": [
    "Filter data to start from 2020-02-01, calculate new cases and deaths, and save:"
   ]
  },
  {
   "cell_type": "code",
   "execution_count": 10,
   "metadata": {},
   "outputs": [
    {
     "data": {
      "text/html": [
       "<div>\n",
       "<style scoped>\n",
       "    .dataframe tbody tr th:only-of-type {\n",
       "        vertical-align: middle;\n",
       "    }\n",
       "\n",
       "    .dataframe tbody tr th {\n",
       "        vertical-align: top;\n",
       "    }\n",
       "\n",
       "    .dataframe thead th {\n",
       "        text-align: right;\n",
       "    }\n",
       "</style>\n",
       "<table border=\"1\" class=\"dataframe\">\n",
       "  <thead>\n",
       "    <tr style=\"text-align: right;\">\n",
       "      <th></th>\n",
       "      <th>date</th>\n",
       "      <th>state</th>\n",
       "      <th>fips</th>\n",
       "      <th>cases</th>\n",
       "      <th>deaths</th>\n",
       "      <th>state_code</th>\n",
       "      <th>new_cases</th>\n",
       "      <th>new_deaths</th>\n",
       "    </tr>\n",
       "  </thead>\n",
       "  <tbody>\n",
       "    <tr>\n",
       "      <th>33269</th>\n",
       "      <td>2021-10-27</td>\n",
       "      <td>Wyoming</td>\n",
       "      <td>56</td>\n",
       "      <td>101912</td>\n",
       "      <td>1174</td>\n",
       "      <td>WY</td>\n",
       "      <td>488.0</td>\n",
       "      <td>0.0</td>\n",
       "    </tr>\n",
       "    <tr>\n",
       "      <th>33325</th>\n",
       "      <td>2021-10-28</td>\n",
       "      <td>Wyoming</td>\n",
       "      <td>56</td>\n",
       "      <td>102403</td>\n",
       "      <td>1174</td>\n",
       "      <td>WY</td>\n",
       "      <td>491.0</td>\n",
       "      <td>0.0</td>\n",
       "    </tr>\n",
       "    <tr>\n",
       "      <th>33381</th>\n",
       "      <td>2021-10-29</td>\n",
       "      <td>Wyoming</td>\n",
       "      <td>56</td>\n",
       "      <td>102926</td>\n",
       "      <td>1174</td>\n",
       "      <td>WY</td>\n",
       "      <td>523.0</td>\n",
       "      <td>0.0</td>\n",
       "    </tr>\n",
       "    <tr>\n",
       "      <th>33437</th>\n",
       "      <td>2021-10-30</td>\n",
       "      <td>Wyoming</td>\n",
       "      <td>56</td>\n",
       "      <td>102926</td>\n",
       "      <td>1174</td>\n",
       "      <td>WY</td>\n",
       "      <td>0.0</td>\n",
       "      <td>0.0</td>\n",
       "    </tr>\n",
       "    <tr>\n",
       "      <th>33493</th>\n",
       "      <td>2021-10-31</td>\n",
       "      <td>Wyoming</td>\n",
       "      <td>56</td>\n",
       "      <td>102926</td>\n",
       "      <td>1174</td>\n",
       "      <td>WY</td>\n",
       "      <td>0.0</td>\n",
       "      <td>0.0</td>\n",
       "    </tr>\n",
       "  </tbody>\n",
       "</table>\n",
       "</div>"
      ],
      "text/plain": [
       "            date    state  fips   cases  deaths state_code  new_cases  \\\n",
       "33269 2021-10-27  Wyoming    56  101912    1174         WY      488.0   \n",
       "33325 2021-10-28  Wyoming    56  102403    1174         WY      491.0   \n",
       "33381 2021-10-29  Wyoming    56  102926    1174         WY      523.0   \n",
       "33437 2021-10-30  Wyoming    56  102926    1174         WY        0.0   \n",
       "33493 2021-10-31  Wyoming    56  102926    1174         WY        0.0   \n",
       "\n",
       "       new_deaths  \n",
       "33269         0.0  \n",
       "33325         0.0  \n",
       "33381         0.0  \n",
       "33437         0.0  \n",
       "33493         0.0  "
      ]
     },
     "execution_count": 10,
     "metadata": {},
     "output_type": "execute_result"
    }
   ],
   "source": [
    "states_cases = states_cases[states_cases['date'] >= '2020-02-01'].sort_values(['state_code', 'date'])\n",
    "\n",
    "states_cases['new_cases'] = states_cases.groupby(['state_code'])['cases'].transform(lambda x: x.diff())\n",
    "states_cases['new_deaths'] = states_cases.groupby(['state_code'])['deaths'].transform(lambda x: x.diff())\n",
    "\n",
    "states_cases.tail()"
   ]
  },
  {
   "cell_type": "code",
   "execution_count": 11,
   "metadata": {},
   "outputs": [],
   "source": [
    "states_cases.drop(columns = ['state']).to_csv(os.getcwd() + '/Data/us_states_clean.csv')"
   ]
  },
  {
   "cell_type": "markdown",
   "metadata": {},
   "source": [
    "### Counties\n",
    "\n",
    "#### Read data file"
   ]
  },
  {
   "cell_type": "code",
   "execution_count": 3,
   "metadata": {},
   "outputs": [
    {
     "data": {
      "text/plain": [
       "(1881596, 6)"
      ]
     },
     "execution_count": 3,
     "metadata": {},
     "output_type": "execute_result"
    }
   ],
   "source": [
    "counties_cases = pd.read_csv(os.getcwd() + '/Data/us-counties.csv')\n",
    "counties_cases.shape"
   ]
  },
  {
   "cell_type": "code",
   "execution_count": 4,
   "metadata": {},
   "outputs": [
    {
     "data": {
      "text/html": [
       "<div>\n",
       "<style scoped>\n",
       "    .dataframe tbody tr th:only-of-type {\n",
       "        vertical-align: middle;\n",
       "    }\n",
       "\n",
       "    .dataframe tbody tr th {\n",
       "        vertical-align: top;\n",
       "    }\n",
       "\n",
       "    .dataframe thead th {\n",
       "        text-align: right;\n",
       "    }\n",
       "</style>\n",
       "<table border=\"1\" class=\"dataframe\">\n",
       "  <thead>\n",
       "    <tr style=\"text-align: right;\">\n",
       "      <th></th>\n",
       "      <th>date</th>\n",
       "      <th>county</th>\n",
       "      <th>state</th>\n",
       "      <th>fips</th>\n",
       "      <th>cases</th>\n",
       "      <th>deaths</th>\n",
       "    </tr>\n",
       "  </thead>\n",
       "  <tbody>\n",
       "    <tr>\n",
       "      <th>1881591</th>\n",
       "      <td>2021-11-03</td>\n",
       "      <td>Sweetwater</td>\n",
       "      <td>Wyoming</td>\n",
       "      <td>56037.0</td>\n",
       "      <td>7650</td>\n",
       "      <td>91.0</td>\n",
       "    </tr>\n",
       "    <tr>\n",
       "      <th>1881592</th>\n",
       "      <td>2021-11-03</td>\n",
       "      <td>Teton</td>\n",
       "      <td>Wyoming</td>\n",
       "      <td>56039.0</td>\n",
       "      <td>5234</td>\n",
       "      <td>14.0</td>\n",
       "    </tr>\n",
       "    <tr>\n",
       "      <th>1881593</th>\n",
       "      <td>2021-11-03</td>\n",
       "      <td>Uinta</td>\n",
       "      <td>Wyoming</td>\n",
       "      <td>56041.0</td>\n",
       "      <td>3871</td>\n",
       "      <td>27.0</td>\n",
       "    </tr>\n",
       "    <tr>\n",
       "      <th>1881594</th>\n",
       "      <td>2021-11-03</td>\n",
       "      <td>Washakie</td>\n",
       "      <td>Wyoming</td>\n",
       "      <td>56043.0</td>\n",
       "      <td>1763</td>\n",
       "      <td>35.0</td>\n",
       "    </tr>\n",
       "    <tr>\n",
       "      <th>1881595</th>\n",
       "      <td>2021-11-03</td>\n",
       "      <td>Weston</td>\n",
       "      <td>Wyoming</td>\n",
       "      <td>56045.0</td>\n",
       "      <td>1131</td>\n",
       "      <td>9.0</td>\n",
       "    </tr>\n",
       "  </tbody>\n",
       "</table>\n",
       "</div>"
      ],
      "text/plain": [
       "               date      county    state     fips  cases  deaths\n",
       "1881591  2021-11-03  Sweetwater  Wyoming  56037.0   7650    91.0\n",
       "1881592  2021-11-03       Teton  Wyoming  56039.0   5234    14.0\n",
       "1881593  2021-11-03       Uinta  Wyoming  56041.0   3871    27.0\n",
       "1881594  2021-11-03    Washakie  Wyoming  56043.0   1763    35.0\n",
       "1881595  2021-11-03      Weston  Wyoming  56045.0   1131     9.0"
      ]
     },
     "execution_count": 4,
     "metadata": {},
     "output_type": "execute_result"
    }
   ],
   "source": [
    "counties_cases.tail()"
   ]
  },
  {
   "cell_type": "code",
   "execution_count": 5,
   "metadata": {},
   "outputs": [
    {
     "data": {
      "text/plain": [
       "(56,)"
      ]
     },
     "execution_count": 5,
     "metadata": {},
     "output_type": "execute_result"
    }
   ],
   "source": [
    "counties_cases['state'].unique().shape"
   ]
  },
  {
   "cell_type": "markdown",
   "metadata": {},
   "source": [
    "#### Preprocess data\n",
    "\n",
    "* Remove AK, HI, and territories\n",
    "* Label DC\n",
    "* Rename county to append 'County' and state code"
   ]
  },
  {
   "cell_type": "code",
   "execution_count": 6,
   "metadata": {},
   "outputs": [
    {
     "data": {
      "text/plain": [
       "(49,)"
      ]
     },
     "execution_count": 6,
     "metadata": {},
     "output_type": "execute_result"
    }
   ],
   "source": [
    "counties_cases['state_code'] = counties_cases['state'].apply(lambda x: name_to_code[x] if x in name_to_code else 'EXCLUDE')\n",
    "counties_cases.loc[counties_cases['state'] == 'District of Columbia', 'state_code'] = 'DC'\n",
    "counties_cases.loc[(counties_cases['state_code'] == 'HI') | (counties_cases['state_code'] == 'AK'), 'state_code'] = 'EXCLUDE'\n",
    "counties_cases = counties_cases[counties_cases['state_code'] != 'EXCLUDE']\n",
    "# counties_cases.loc[:, 'county'] = counties_cases['county'] + ' County, ' + counties_cases['state_code']\n",
    "\n",
    "counties_cases['state'].unique().shape"
   ]
  },
  {
   "cell_type": "code",
   "execution_count": 10,
   "metadata": {},
   "outputs": [
    {
     "data": {
      "text/html": [
       "<div>\n",
       "<style scoped>\n",
       "    .dataframe tbody tr th:only-of-type {\n",
       "        vertical-align: middle;\n",
       "    }\n",
       "\n",
       "    .dataframe tbody tr th {\n",
       "        vertical-align: top;\n",
       "    }\n",
       "\n",
       "    .dataframe thead th {\n",
       "        text-align: right;\n",
       "    }\n",
       "</style>\n",
       "<table border=\"1\" class=\"dataframe\">\n",
       "  <thead>\n",
       "    <tr style=\"text-align: right;\">\n",
       "      <th></th>\n",
       "      <th>date</th>\n",
       "      <th>county</th>\n",
       "      <th>state</th>\n",
       "      <th>fips</th>\n",
       "      <th>cases</th>\n",
       "      <th>deaths</th>\n",
       "      <th>state_code</th>\n",
       "    </tr>\n",
       "  </thead>\n",
       "  <tbody>\n",
       "    <tr>\n",
       "      <th>1881591</th>\n",
       "      <td>2021-11-03</td>\n",
       "      <td>Sweetwater County, WY</td>\n",
       "      <td>Wyoming</td>\n",
       "      <td>56037.0</td>\n",
       "      <td>7650</td>\n",
       "      <td>91.0</td>\n",
       "      <td>WY</td>\n",
       "    </tr>\n",
       "    <tr>\n",
       "      <th>1881592</th>\n",
       "      <td>2021-11-03</td>\n",
       "      <td>Teton County, WY</td>\n",
       "      <td>Wyoming</td>\n",
       "      <td>56039.0</td>\n",
       "      <td>5234</td>\n",
       "      <td>14.0</td>\n",
       "      <td>WY</td>\n",
       "    </tr>\n",
       "    <tr>\n",
       "      <th>1881593</th>\n",
       "      <td>2021-11-03</td>\n",
       "      <td>Uinta County, WY</td>\n",
       "      <td>Wyoming</td>\n",
       "      <td>56041.0</td>\n",
       "      <td>3871</td>\n",
       "      <td>27.0</td>\n",
       "      <td>WY</td>\n",
       "    </tr>\n",
       "    <tr>\n",
       "      <th>1881594</th>\n",
       "      <td>2021-11-03</td>\n",
       "      <td>Washakie County, WY</td>\n",
       "      <td>Wyoming</td>\n",
       "      <td>56043.0</td>\n",
       "      <td>1763</td>\n",
       "      <td>35.0</td>\n",
       "      <td>WY</td>\n",
       "    </tr>\n",
       "    <tr>\n",
       "      <th>1881595</th>\n",
       "      <td>2021-11-03</td>\n",
       "      <td>Weston County, WY</td>\n",
       "      <td>Wyoming</td>\n",
       "      <td>56045.0</td>\n",
       "      <td>1131</td>\n",
       "      <td>9.0</td>\n",
       "      <td>WY</td>\n",
       "    </tr>\n",
       "  </tbody>\n",
       "</table>\n",
       "</div>"
      ],
      "text/plain": [
       "               date                 county    state     fips  cases  deaths  \\\n",
       "1881591  2021-11-03  Sweetwater County, WY  Wyoming  56037.0   7650    91.0   \n",
       "1881592  2021-11-03       Teton County, WY  Wyoming  56039.0   5234    14.0   \n",
       "1881593  2021-11-03       Uinta County, WY  Wyoming  56041.0   3871    27.0   \n",
       "1881594  2021-11-03    Washakie County, WY  Wyoming  56043.0   1763    35.0   \n",
       "1881595  2021-11-03      Weston County, WY  Wyoming  56045.0   1131     9.0   \n",
       "\n",
       "        state_code  \n",
       "1881591         WY  \n",
       "1881592         WY  \n",
       "1881593         WY  \n",
       "1881594         WY  \n",
       "1881595         WY  "
      ]
     },
     "execution_count": 10,
     "metadata": {},
     "output_type": "execute_result"
    }
   ],
   "source": [
    "counties_cases = counties_cases[counties_cases['county'] != 'Unknown']\n",
    "counties_cases.loc[:, 'county'] = counties_cases['county'] + ' County, ' + counties_cases['state_code']\n",
    "\n",
    "counties_cases.tail()"
   ]
  },
  {
   "cell_type": "markdown",
   "metadata": {},
   "source": [
    "Convert date from string to date type:"
   ]
  },
  {
   "cell_type": "code",
   "execution_count": 11,
   "metadata": {},
   "outputs": [],
   "source": [
    "counties_cases['date'] = pd.to_datetime(counties_cases['date'])"
   ]
  },
  {
   "cell_type": "markdown",
   "metadata": {},
   "source": [
    "Filter data for the range 2020-02-01 to 2021-10-31, calculate new cases and deaths, and save:"
   ]
  },
  {
   "cell_type": "code",
   "execution_count": 12,
   "metadata": {},
   "outputs": [
    {
     "data": {
      "text/html": [
       "<div>\n",
       "<style scoped>\n",
       "    .dataframe tbody tr th:only-of-type {\n",
       "        vertical-align: middle;\n",
       "    }\n",
       "\n",
       "    .dataframe tbody tr th {\n",
       "        vertical-align: top;\n",
       "    }\n",
       "\n",
       "    .dataframe thead th {\n",
       "        text-align: right;\n",
       "    }\n",
       "</style>\n",
       "<table border=\"1\" class=\"dataframe\">\n",
       "  <thead>\n",
       "    <tr style=\"text-align: right;\">\n",
       "      <th></th>\n",
       "      <th>date</th>\n",
       "      <th>county</th>\n",
       "      <th>state</th>\n",
       "      <th>fips</th>\n",
       "      <th>cases</th>\n",
       "      <th>deaths</th>\n",
       "      <th>state_code</th>\n",
       "      <th>new_cases</th>\n",
       "      <th>new_deaths</th>\n",
       "    </tr>\n",
       "  </thead>\n",
       "  <tbody>\n",
       "    <tr>\n",
       "      <th>1871844</th>\n",
       "      <td>2021-10-31</td>\n",
       "      <td>Sweetwater County, WY</td>\n",
       "      <td>Wyoming</td>\n",
       "      <td>56037.0</td>\n",
       "      <td>7575</td>\n",
       "      <td>80.0</td>\n",
       "      <td>WY</td>\n",
       "      <td>0.0</td>\n",
       "      <td>0.0</td>\n",
       "    </tr>\n",
       "    <tr>\n",
       "      <th>1871845</th>\n",
       "      <td>2021-10-31</td>\n",
       "      <td>Teton County, WY</td>\n",
       "      <td>Wyoming</td>\n",
       "      <td>56039.0</td>\n",
       "      <td>5204</td>\n",
       "      <td>14.0</td>\n",
       "      <td>WY</td>\n",
       "      <td>0.0</td>\n",
       "      <td>0.0</td>\n",
       "    </tr>\n",
       "    <tr>\n",
       "      <th>1871846</th>\n",
       "      <td>2021-10-31</td>\n",
       "      <td>Uinta County, WY</td>\n",
       "      <td>Wyoming</td>\n",
       "      <td>56041.0</td>\n",
       "      <td>3829</td>\n",
       "      <td>26.0</td>\n",
       "      <td>WY</td>\n",
       "      <td>0.0</td>\n",
       "      <td>0.0</td>\n",
       "    </tr>\n",
       "    <tr>\n",
       "      <th>1871847</th>\n",
       "      <td>2021-10-31</td>\n",
       "      <td>Washakie County, WY</td>\n",
       "      <td>Wyoming</td>\n",
       "      <td>56043.0</td>\n",
       "      <td>1730</td>\n",
       "      <td>35.0</td>\n",
       "      <td>WY</td>\n",
       "      <td>0.0</td>\n",
       "      <td>0.0</td>\n",
       "    </tr>\n",
       "    <tr>\n",
       "      <th>1871848</th>\n",
       "      <td>2021-10-31</td>\n",
       "      <td>Weston County, WY</td>\n",
       "      <td>Wyoming</td>\n",
       "      <td>56045.0</td>\n",
       "      <td>1109</td>\n",
       "      <td>9.0</td>\n",
       "      <td>WY</td>\n",
       "      <td>0.0</td>\n",
       "      <td>0.0</td>\n",
       "    </tr>\n",
       "  </tbody>\n",
       "</table>\n",
       "</div>"
      ],
      "text/plain": [
       "              date                 county    state     fips  cases  deaths  \\\n",
       "1871844 2021-10-31  Sweetwater County, WY  Wyoming  56037.0   7575    80.0   \n",
       "1871845 2021-10-31       Teton County, WY  Wyoming  56039.0   5204    14.0   \n",
       "1871846 2021-10-31       Uinta County, WY  Wyoming  56041.0   3829    26.0   \n",
       "1871847 2021-10-31    Washakie County, WY  Wyoming  56043.0   1730    35.0   \n",
       "1871848 2021-10-31      Weston County, WY  Wyoming  56045.0   1109     9.0   \n",
       "\n",
       "        state_code  new_cases  new_deaths  \n",
       "1871844         WY        0.0         0.0  \n",
       "1871845         WY        0.0         0.0  \n",
       "1871846         WY        0.0         0.0  \n",
       "1871847         WY        0.0         0.0  \n",
       "1871848         WY        0.0         0.0  "
      ]
     },
     "execution_count": 12,
     "metadata": {},
     "output_type": "execute_result"
    }
   ],
   "source": [
    "counties_cases = counties_cases[(counties_cases['date'] >= '2020-02-01') & (counties_cases['date'] <= '2021-10-31')].sort_values(['state_code', 'date'])\n",
    "\n",
    "counties_cases['new_cases'] = counties_cases.groupby(['county'])['cases'].transform(lambda x: x.diff())\n",
    "counties_cases['new_deaths'] = counties_cases.groupby(['county'])['deaths'].transform(lambda x: x.diff())\n",
    "\n",
    "counties_cases.tail()"
   ]
  },
  {
   "cell_type": "code",
   "execution_count": 13,
   "metadata": {},
   "outputs": [],
   "source": [
    "counties_cases.drop(columns = ['state', 'state_code']).to_csv(os.getcwd() + '/Data/us_counties_clean.csv')"
   ]
  }
 ],
 "metadata": {
  "kernelspec": {
   "display_name": "Python 3",
   "language": "python",
   "name": "python3"
  },
  "language_info": {
   "codemirror_mode": {
    "name": "ipython",
    "version": 3
   },
   "file_extension": ".py",
   "mimetype": "text/x-python",
   "name": "python",
   "nbconvert_exporter": "python",
   "pygments_lexer": "ipython3",
   "version": "3.8.2"
  }
 },
 "nbformat": 4,
 "nbformat_minor": 4
}
